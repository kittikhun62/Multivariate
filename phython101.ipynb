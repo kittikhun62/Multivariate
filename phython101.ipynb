{
  "nbformat": 4,
  "nbformat_minor": 0,
  "metadata": {
    "colab": {
      "name": "phython101.ipynb",
      "provenance": [],
      "authorship_tag": "ABX9TyMOxT+PRWMfZkEfrzSd26BT",
      "include_colab_link": true
    },
    "kernelspec": {
      "name": "python3",
      "display_name": "Python 3"
    }
  },
  "cells": [
    {
      "cell_type": "markdown",
      "metadata": {
        "id": "view-in-github",
        "colab_type": "text"
      },
      "source": [
        "<a href=\"https://colab.research.google.com/github/kittikhun62/Multivariate/blob/main/phython101.ipynb\" target=\"_parent\"><img src=\"https://colab.research.google.com/assets/colab-badge.svg\" alt=\"Open In Colab\"/></a>"
      ]
    },
    {
      "cell_type": "markdown",
      "metadata": {
        "id": "aU2a8MLSLk2j"
      },
      "source": [
        "ตัวเเปร variable"
      ]
    },
    {
      "cell_type": "markdown",
      "metadata": {
        "id": "ZKlDzL3VL_2h"
      },
      "source": [
        "หลักการตั้งชื่อตัวเเปรเบื้องต้น\r\n",
        "\r\n",
        "1.  ตั้งให้สื่อ\r\n",
        "2.  ภาษาอังกฤษ\r\n",
        "3.  ใช้ตัวเลขได้เเต่ห้ามขึ้นต้นด้วยตัวเลข\r\n",
        "4.  ห้ามเว้นวรรค\r\n",
        "5.  ตัวเล็กกับตัวใหญ่ไม่เหมือนกัน"
      ]
    },
    {
      "cell_type": "markdown",
      "metadata": {
        "id": "TTGuL5TzMoc2"
      },
      "source": [
        "มี output 2 mod : ออกหน้าจอ กับ เข้าไปเก็บในตัวเเปร"
      ]
    },
    {
      "cell_type": "code",
      "metadata": {
        "colab": {
          "base_uri": "https://localhost:8080/"
        },
        "id": "xZJjWdDHLsAy",
        "outputId": "3fa059c9-5a0b-45b5-ce3f-7774a137ece0"
      },
      "source": [
        "3.14159 # hashtag หรือ sharp # คือ commment >>> อันนี้คือ output ที่ไม่เกี่ยวกับโค้ด"
      ],
      "execution_count": 9,
      "outputs": [
        {
          "output_type": "execute_result",
          "data": {
            "text/plain": [
              "3.14159"
            ]
          },
          "metadata": {
            "tags": []
          },
          "execution_count": 9
        }
      ]
    },
    {
      "cell_type": "code",
      "metadata": {
        "id": "yFD1QHoCLqSI"
      },
      "source": [
        "pi = 3.14159"
      ],
      "execution_count": 3,
      "outputs": []
    },
    {
      "cell_type": "code",
      "metadata": {
        "colab": {
          "base_uri": "https://localhost:8080/"
        },
        "id": "eGfk3pNHLr7I",
        "outputId": "3ab201a9-c0ed-4e8c-87d5-81144fee8fe2"
      },
      "source": [
        "pi"
      ],
      "execution_count": 4,
      "outputs": [
        {
          "output_type": "execute_result",
          "data": {
            "text/plain": [
              "3.14159"
            ]
          },
          "metadata": {
            "tags": []
          },
          "execution_count": 4
        }
      ]
    },
    {
      "cell_type": "code",
      "metadata": {
        "colab": {
          "base_uri": "https://localhost:8080/"
        },
        "id": "WXD90q0aLr4-",
        "outputId": "d9d71ac7-fdc5-4533-b1c8-dfac431b711d"
      },
      "source": [
        "a = 234567  #ในโค้ดสามารถใส่ได้หลายคำสั่ง\r\n",
        "print(a)    #คำสั่งprint ใช้เเสดงผลค่านั้นๆ"
      ],
      "execution_count": 8,
      "outputs": [
        {
          "output_type": "stream",
          "text": [
            "234567\n"
          ],
          "name": "stdout"
        }
      ]
    },
    {
      "cell_type": "markdown",
      "metadata": {
        "id": "DsGTqjSmNk9N"
      },
      "source": [
        "ชนิดของตัวเเปร 3 ชนิด"
      ]
    },
    {
      "cell_type": "markdown",
      "metadata": {
        "id": "qsL8Ito7OfMU"
      },
      "source": [
        "# จำนวนเต็ม (integer, int)"
      ]
    },
    {
      "cell_type": "code",
      "metadata": {
        "colab": {
          "base_uri": "https://localhost:8080/"
        },
        "id": "KtoRAOx4LrwA",
        "outputId": "d0e95b93-7b4b-4a2d-ce66-d84567872690"
      },
      "source": [
        "aaa = 1092  #integer จำนวนที่ไม่มีทศนิยม\r\n",
        "print(aaa)"
      ],
      "execution_count": 11,
      "outputs": [
        {
          "output_type": "stream",
          "text": [
            "1092\n"
          ],
          "name": "stdout"
        }
      ]
    },
    {
      "cell_type": "markdown",
      "metadata": {
        "id": "_9ou02WxOyuV"
      },
      "source": [
        "### จำนวนจริง (float)"
      ]
    },
    {
      "cell_type": "code",
      "metadata": {
        "colab": {
          "base_uri": "https://localhost:8080/"
        },
        "id": "KY-XaLU0LorR",
        "outputId": "5cb709d5-5a30-4532-a485-9cb7a2b737b9"
      },
      "source": [
        "xxx = 11.\r\n",
        "print(xxx)"
      ],
      "execution_count": 15,
      "outputs": [
        {
          "output_type": "stream",
          "text": [
            "11.0\n"
          ],
          "name": "stdout"
        }
      ]
    },
    {
      "cell_type": "markdown",
      "metadata": {
        "id": "7Nhs8-l7PW9g"
      },
      "source": [
        "### ตัวอักษร-ข้อความ (character เเละ text,string)"
      ]
    },
    {
      "cell_type": "code",
      "metadata": {
        "id": "Ab8Amh0iQEXE"
      },
      "source": [
        "#### เราใช้ single quote ' หรือ double quote \"ล้อมรอบตัวหนังสือเพื่อระบุว่าเป็น characterหรือstring\"\r\n"
      ],
      "execution_count": 19,
      "outputs": []
    },
    {
      "cell_type": "code",
      "metadata": {
        "colab": {
          "base_uri": "https://localhost:8080/"
        },
        "id": "En9Suw9eQcbq",
        "outputId": "074d0e6c-f415-4eb6-ae85-3bd90db5d67c"
      },
      "source": [
        "ggg = '123456'\r\n",
        "print(ggg)"
      ],
      "execution_count": 20,
      "outputs": [
        {
          "output_type": "stream",
          "text": [
            "123456\n"
          ],
          "name": "stdout"
        }
      ]
    },
    {
      "cell_type": "code",
      "metadata": {
        "colab": {
          "base_uri": "https://localhost:8080/"
        },
        "id": "Pv9BkEGmQkGO",
        "outputId": "c746984a-daaa-4709-ec91-9bed877e5414"
      },
      "source": [
        "aaa + xxx #integer+float"
      ],
      "execution_count": 22,
      "outputs": [
        {
          "output_type": "execute_result",
          "data": {
            "text/plain": [
              "1103.0"
            ]
          },
          "metadata": {
            "tags": []
          },
          "execution_count": 22
        }
      ]
    },
    {
      "cell_type": "code",
      "metadata": {
        "id": "xTa83tPqSGOJ"
      },
      "source": [
        "#ตัวเลขที่เป็น str ไม่สามารถเอามา + - กันได้"
      ],
      "execution_count": 29,
      "outputs": []
    },
    {
      "cell_type": "code",
      "metadata": {
        "colab": {
          "base_uri": "https://localhost:8080/",
          "height": 162
        },
        "id": "-2mmBICQQqCj",
        "outputId": "59a1a9d7-4555-48cf-9e38-edb3d2e2d4c1"
      },
      "source": [
        "xxx + ggg"
      ],
      "execution_count": 23,
      "outputs": [
        {
          "output_type": "error",
          "ename": "TypeError",
          "evalue": "ignored",
          "traceback": [
            "\u001b[0;31m---------------------------------------------------------------------------\u001b[0m",
            "\u001b[0;31mTypeError\u001b[0m                                 Traceback (most recent call last)",
            "\u001b[0;32m<ipython-input-23-437564dad4c9>\u001b[0m in \u001b[0;36m<module>\u001b[0;34m()\u001b[0m\n\u001b[0;32m----> 1\u001b[0;31m \u001b[0mxxx\u001b[0m \u001b[0;34m+\u001b[0m \u001b[0mggg\u001b[0m\u001b[0;34m\u001b[0m\u001b[0;34m\u001b[0m\u001b[0m\n\u001b[0m",
            "\u001b[0;31mTypeError\u001b[0m: unsupported operand type(s) for +: 'float' and 'str'"
          ]
        }
      ]
    },
    {
      "cell_type": "markdown",
      "metadata": {
        "id": "sei2qPwDQ_4Q"
      },
      "source": [
        "#การเปลี่ยนชนิดของตัวเเปร variable casting"
      ]
    },
    {
      "cell_type": "code",
      "metadata": {
        "colab": {
          "base_uri": "https://localhost:8080/"
        },
        "id": "fH7MhbbjReEo",
        "outputId": "5b748b38-412e-49d3-e1d1-3d0458bc167a"
      },
      "source": [
        "aaa + int(ggg)"
      ],
      "execution_count": 26,
      "outputs": [
        {
          "output_type": "execute_result",
          "data": {
            "text/plain": [
              "124548"
            ]
          },
          "metadata": {
            "tags": []
          },
          "execution_count": 26
        }
      ]
    },
    {
      "cell_type": "code",
      "metadata": {
        "colab": {
          "base_uri": "https://localhost:8080/"
        },
        "id": "tHBM_z3eRpa7",
        "outputId": "846c8da8-a5b1-4b27-e1fe-8fbe79264cdc"
      },
      "source": [
        "aaa + float(ggg)"
      ],
      "execution_count": 27,
      "outputs": [
        {
          "output_type": "execute_result",
          "data": {
            "text/plain": [
              "124548.0"
            ]
          },
          "metadata": {
            "tags": []
          },
          "execution_count": 27
        }
      ]
    },
    {
      "cell_type": "code",
      "metadata": {
        "colab": {
          "base_uri": "https://localhost:8080/",
          "height": 35
        },
        "id": "dMLqZuMdRuiG",
        "outputId": "3d6b7b5c-a905-4c2c-cc00-c25c7aa581b4"
      },
      "source": [
        "str(aaa)"
      ],
      "execution_count": 28,
      "outputs": [
        {
          "output_type": "execute_result",
          "data": {
            "application/vnd.google.colaboratory.intrinsic+json": {
              "type": "string"
            },
            "text/plain": [
              "'1092'"
            ]
          },
          "metadata": {
            "tags": []
          },
          "execution_count": 28
        }
      ]
    },
    {
      "cell_type": "markdown",
      "metadata": {
        "id": "8DtpVFvgSRyw"
      },
      "source": [
        "#การดำเนินการ Operation (operators +,-,*,/,%)"
      ]
    },
    {
      "cell_type": "code",
      "metadata": {
        "colab": {
          "base_uri": "https://localhost:8080/",
          "height": 162
        },
        "id": "Mdo_-xNpRyHq",
        "outputId": "80a3dda7-2e2d-47b2-f771-e0a2a6c86f3f"
      },
      "source": [
        "a+b #error นี้บอกว่ามันไม่มีตัวเเปรที่เรากำหนดไว้"
      ],
      "execution_count": 31,
      "outputs": [
        {
          "output_type": "error",
          "ename": "NameError",
          "evalue": "ignored",
          "traceback": [
            "\u001b[0;31m---------------------------------------------------------------------------\u001b[0m",
            "\u001b[0;31mNameError\u001b[0m                                 Traceback (most recent call last)",
            "\u001b[0;32m<ipython-input-31-9cc3ee349c25>\u001b[0m in \u001b[0;36m<module>\u001b[0;34m()\u001b[0m\n\u001b[0;32m----> 1\u001b[0;31m \u001b[0ma\u001b[0m\u001b[0;34m+\u001b[0m\u001b[0mb\u001b[0m \u001b[0;31m#error นี้บอกว่ามันไม่มีตัวเเปรที่เรากำหนดไว้\u001b[0m\u001b[0;34m\u001b[0m\u001b[0;34m\u001b[0m\u001b[0m\n\u001b[0m",
            "\u001b[0;31mNameError\u001b[0m: name 'b' is not defined"
          ]
        }
      ]
    },
    {
      "cell_type": "code",
      "metadata": {
        "colab": {
          "base_uri": "https://localhost:8080/"
        },
        "id": "HPUMm1ciSnUW",
        "outputId": "b87b10c0-eb18-41e6-d402-13f2233a69ad"
      },
      "source": [
        "aaa + xxx"
      ],
      "execution_count": 32,
      "outputs": [
        {
          "output_type": "execute_result",
          "data": {
            "text/plain": [
              "1103.0"
            ]
          },
          "metadata": {
            "tags": []
          },
          "execution_count": 32
        }
      ]
    },
    {
      "cell_type": "code",
      "metadata": {
        "colab": {
          "base_uri": "https://localhost:8080/"
        },
        "id": "86GV1JP8SxTU",
        "outputId": "929fdce0-583b-44f2-cd16-cbe115f3c343"
      },
      "source": [
        "aaa - xxx"
      ],
      "execution_count": 34,
      "outputs": [
        {
          "output_type": "execute_result",
          "data": {
            "text/plain": [
              "1081.0"
            ]
          },
          "metadata": {
            "tags": []
          },
          "execution_count": 34
        }
      ]
    },
    {
      "cell_type": "code",
      "metadata": {
        "colab": {
          "base_uri": "https://localhost:8080/"
        },
        "id": "E7S3hUltSvui",
        "outputId": "e10cb2a2-3b42-4058-a6a2-e1ec89e47b04"
      },
      "source": [
        "ax = aaa*xxx #สามารถเอาไปใช้ต่อได้\r\n",
        "print(ax)"
      ],
      "execution_count": 36,
      "outputs": [
        {
          "output_type": "stream",
          "text": [
            "12012.0\n"
          ],
          "name": "stdout"
        }
      ]
    },
    {
      "cell_type": "markdown",
      "metadata": {
        "id": "pu0iHSBnTGBd"
      },
      "source": [
        "### % คือหมาย modulo"
      ]
    },
    {
      "cell_type": "code",
      "metadata": {
        "colab": {
          "base_uri": "https://localhost:8080/"
        },
        "id": "1FWNs9sOTCMg",
        "outputId": "2c9993bb-e250-4324-be6e-e1e7a16242c9"
      },
      "source": [
        "5%3 #modulo คือการหารเอาเศษคือ 5 หาร 3 ได้เศษ 2 เอาไว้เช็คว่าเป็นเลขคี่หรือเลขคู่"
      ],
      "execution_count": 39,
      "outputs": [
        {
          "output_type": "execute_result",
          "data": {
            "text/plain": [
              "2"
            ]
          },
          "metadata": {
            "tags": []
          },
          "execution_count": 39
        }
      ]
    },
    {
      "cell_type": "markdown",
      "metadata": {
        "id": "4fdBX3_lTtOF"
      },
      "source": [
        "###คำสั่ง print เเบบพิเศษ (การ format string)"
      ]
    },
    {
      "cell_type": "code",
      "metadata": {
        "colab": {
          "base_uri": "https://localhost:8080/"
        },
        "id": "YrLDZowqThW9",
        "outputId": "21a2d260-dd03-4a10-d670-4367aafe3e73"
      },
      "source": [
        "print('ตัวเเปร') #สิ่งที่อยู่ข้างในวงเล็บ"
      ],
      "execution_count": 41,
      "outputs": [
        {
          "output_type": "stream",
          "text": [
            "ตัวเเปร\n"
          ],
          "name": "stdout"
        }
      ]
    },
    {
      "cell_type": "code",
      "metadata": {
        "colab": {
          "base_uri": "https://localhost:8080/"
        },
        "id": "4OGtM_MMUboV",
        "outputId": "f275104c-577a-4833-c60f-30a585802638"
      },
      "source": [
        "print(f'% คือการหารเอาเศษ เช่น 7%3 = {7%3}') # เพิ่ม f หน้า 'string เเละใช้ {} ใส่ code"
      ],
      "execution_count": 43,
      "outputs": [
        {
          "output_type": "stream",
          "text": [
            "% คือการหารเอาเศษ เช่น 7%3 = 1\n"
          ],
          "name": "stdout"
        }
      ]
    },
    {
      "cell_type": "code",
      "metadata": {
        "colab": {
          "base_uri": "https://localhost:8080/"
        },
        "id": "wvP7mx9zUtmO",
        "outputId": "4d339098-8378-4123-fe78-add9600d9e9a"
      },
      "source": [
        "print(f'% คือการหารเอาเศษ เช่น 7%3 = {7%3} \\\r\n",
        "เเต่\\n/ คือการหารปกติ เช่น 7/3 = {7/3} \\\r\n",
        "//เเละ \\n// คือการหารเอาส่วน เช่น 7//3 = {7//3}  \\\r\n",
        "หรือ\\nใช้ int()  เพื่อหารเอาส่วน เช่น int (7/3) = {int(7/3)} ') #\\n คือการขึ้นบรรทัดใหม่"
      ],
      "execution_count": 45,
      "outputs": [
        {
          "output_type": "stream",
          "text": [
            "% คือการหารเอาเศษ เช่น 7%3 = 1 เเต่\n",
            "/ คือการหารปกติ เช่น 7/3 = 2.3333333333333335 //เเละ \n",
            "// คือการหารเอาส่วน เช่น 7//3 = 2  หรือ\n",
            "ใช้ int()  เพื่อหารเอาส่วน เช่น int (7/3) = 2 \n"
          ],
          "name": "stdout"
        }
      ]
    },
    {
      "cell_type": "markdown",
      "metadata": {
        "id": "APlK093dW7Rj"
      },
      "source": [
        "# DATA STRUCTURE(โครงสร้างข้อมูล)\r\n"
      ]
    },
    {
      "cell_type": "markdown",
      "metadata": {
        "id": "EuUWOG7KXG7r"
      },
      "source": [
        "### List คือ การเอาข้อมูลหลายๆตัวมาเรียงต่อกัน\r\n",
        "#### list สามารถสร้างได้ 2 เเบบ ดังนี้"
      ]
    },
    {
      "cell_type": "code",
      "metadata": {
        "colab": {
          "base_uri": "https://localhost:8080/"
        },
        "id": "zKAbnGJ1Wzf3",
        "outputId": "53f831a8-3e25-422f-c882-45a18a4c66a8"
      },
      "source": [
        "[111,'c','งง' , aaa]"
      ],
      "execution_count": 46,
      "outputs": [
        {
          "output_type": "execute_result",
          "data": {
            "text/plain": [
              "[111, 'c', 'งง', 1092]"
            ]
          },
          "metadata": {
            "tags": []
          },
          "execution_count": 46
        }
      ]
    },
    {
      "cell_type": "markdown",
      "metadata": {
        "id": "Fg1YX6HfXe8c"
      },
      "source": [
        "เเบบที่1 > square brackets"
      ]
    },
    {
      "cell_type": "code",
      "metadata": {
        "colab": {
          "base_uri": "https://localhost:8080/"
        },
        "id": "4C3GNeePXcnE",
        "outputId": "e3be5543-97dc-4915-a985-d38e1470309a"
      },
      "source": [
        "list_a = []\r\n",
        "print(list_a)"
      ],
      "execution_count": 47,
      "outputs": [
        {
          "output_type": "stream",
          "text": [
            "[]\n"
          ],
          "name": "stdout"
        }
      ]
    },
    {
      "cell_type": "code",
      "metadata": {
        "colab": {
          "base_uri": "https://localhost:8080/"
        },
        "id": "xSX6iBd_Xto2",
        "outputId": "526231dd-0301-4fd2-df9d-889f4dc5d50a"
      },
      "source": [
        "list_b = [1 , 5, 'v']  #ใช้ในการเรียงลำดับ ลำดับมีความสำคัญ\r\n",
        "print(list_b)"
      ],
      "execution_count": 48,
      "outputs": [
        {
          "output_type": "stream",
          "text": [
            "[1, 5, 'v']\n"
          ],
          "name": "stdout"
        }
      ]
    },
    {
      "cell_type": "markdown",
      "metadata": {
        "id": "KEqywNGbX_EU"
      },
      "source": [
        "### ลำดับที่อยู่ใน list มีความสำคัญ (ลำดับใน list เริ่มจาก 0,1,2"
      ]
    },
    {
      "cell_type": "code",
      "metadata": {
        "colab": {
          "base_uri": "https://localhost:8080/",
          "height": 35
        },
        "id": "imIqph8rXs_7",
        "outputId": "f7d5946b-4885-4fec-d773-6228d83e35f9"
      },
      "source": [
        "list_b [2]"
      ],
      "execution_count": 49,
      "outputs": [
        {
          "output_type": "execute_result",
          "data": {
            "application/vnd.google.colaboratory.intrinsic+json": {
              "type": "string"
            },
            "text/plain": [
              "'v'"
            ]
          },
          "metadata": {
            "tags": []
          },
          "execution_count": 49
        }
      ]
    },
    {
      "cell_type": "markdown",
      "metadata": {
        "id": "BuAFfq8FYWI0"
      },
      "source": [
        "### เเบบที่ 2\r\n"
      ]
    },
    {
      "cell_type": "markdown",
      "metadata": {
        "id": "kNIrQIs1YcWO"
      },
      "source": [
        "### append() เพิ่มสมาชิกใน ;list"
      ]
    },
    {
      "cell_type": "code",
      "metadata": {
        "colab": {
          "base_uri": "https://localhost:8080/"
        },
        "id": "bi2-hiB8YVBB",
        "outputId": "1581686c-8d48-4f1e-c125-04cf78ff130a"
      },
      "source": [
        "list_b.append('u')\r\n",
        "print(list_b)"
      ],
      "execution_count": 50,
      "outputs": [
        {
          "output_type": "stream",
          "text": [
            "[1, 5, 'v', 'u']\n"
          ],
          "name": "stdout"
        }
      ]
    },
    {
      "cell_type": "markdown",
      "metadata": {
        "id": "zcSW7uGrZPwI"
      },
      "source": [
        "##### 0 คือสมาชิกที่ตัวที่1 เเละ -1 คือสมาชิกตัวสุดท้าย  \r\n",
        "\r\n"
      ]
    },
    {
      "cell_type": "code",
      "metadata": {
        "colab": {
          "base_uri": "https://localhost:8080/",
          "height": 35
        },
        "id": "y6yoAjAJYwCf",
        "outputId": "f2fb02fd-47c0-4524-a92c-8bb6b1c9280f"
      },
      "source": [
        "list_b[-1]  # ตัวที่อยู่ในวงเล็บหลังจากตัวเเปร list เรียกว่า index ใช้สำหรับชี้ข้อมูลใน list (ชี้จากข้างหน้าหรือชี้จากข้างหลังก็ได้)"
      ],
      "execution_count": 54,
      "outputs": [
        {
          "output_type": "execute_result",
          "data": {
            "application/vnd.google.colaboratory.intrinsic+json": {
              "type": "string"
            },
            "text/plain": [
              "'u'"
            ]
          },
          "metadata": {
            "tags": []
          },
          "execution_count": 54
        }
      ]
    },
    {
      "cell_type": "markdown",
      "metadata": {
        "id": "7u2T0q15ZqsD"
      },
      "source": [
        "# String >list of characters"
      ]
    },
    {
      "cell_type": "code",
      "metadata": {
        "colab": {
          "base_uri": "https://localhost:8080/"
        },
        "id": "QDjvBrHZZItw",
        "outputId": "447bec23-fc82-42da-b5a7-e706c8ca93a4"
      },
      "source": [
        "t = 'python is easy'\r\n",
        "print(t)"
      ],
      "execution_count": 61,
      "outputs": [
        {
          "output_type": "stream",
          "text": [
            "python is easy\n"
          ],
          "name": "stdout"
        }
      ]
    },
    {
      "cell_type": "code",
      "metadata": {
        "colab": {
          "base_uri": "https://localhost:8080/",
          "height": 35
        },
        "id": "W3duHadDZ2e_",
        "outputId": "3cde2496-1a57-41d9-def5-c76e6e0ce55b"
      },
      "source": [
        "t[1]"
      ],
      "execution_count": 57,
      "outputs": [
        {
          "output_type": "execute_result",
          "data": {
            "application/vnd.google.colaboratory.intrinsic+json": {
              "type": "string"
            },
            "text/plain": [
              "'y'"
            ]
          },
          "metadata": {
            "tags": []
          },
          "execution_count": 57
        }
      ]
    },
    {
      "cell_type": "code",
      "metadata": {
        "colab": {
          "base_uri": "https://localhost:8080/",
          "height": 35
        },
        "id": "0NqrEJmdaEmy",
        "outputId": "50a9e57e-9234-4c01-bf40-6d6d9f105c08"
      },
      "source": [
        "t[-4]"
      ],
      "execution_count": 58,
      "outputs": [
        {
          "output_type": "execute_result",
          "data": {
            "application/vnd.google.colaboratory.intrinsic+json": {
              "type": "string"
            },
            "text/plain": [
              "'e'"
            ]
          },
          "metadata": {
            "tags": []
          },
          "execution_count": 58
        }
      ]
    },
    {
      "cell_type": "code",
      "metadata": {
        "colab": {
          "base_uri": "https://localhost:8080/",
          "height": 35
        },
        "id": "lIADM1_NaIGM",
        "outputId": "f83d8426-f602-41f9-cc59-e6531f13d6c9"
      },
      "source": [
        "t[6]"
      ],
      "execution_count": 62,
      "outputs": [
        {
          "output_type": "execute_result",
          "data": {
            "application/vnd.google.colaboratory.intrinsic+json": {
              "type": "string"
            },
            "text/plain": [
              "' '"
            ]
          },
          "metadata": {
            "tags": []
          },
          "execution_count": 62
        }
      ]
    },
    {
      "cell_type": "markdown",
      "metadata": {
        "id": "elPBsiAXaaSH"
      },
      "source": [
        "### จบ 5 ม.ค. 2564"
      ]
    },
    {
      "cell_type": "code",
      "metadata": {
        "id": "anXNvgoJaMp0"
      },
      "source": [
        ""
      ],
      "execution_count": null,
      "outputs": []
    }
  ]
}
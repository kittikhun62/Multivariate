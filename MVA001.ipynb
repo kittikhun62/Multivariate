{
  "nbformat": 4,
  "nbformat_minor": 0,
  "metadata": {
    "colab": {
      "name": "MVA001.ipynb",
      "provenance": [],
      "authorship_tag": "ABX9TyMqny7DZP7lmKbxMLltUUGJ",
      "include_colab_link": true
    },
    "kernelspec": {
      "name": "python3",
      "display_name": "Python 3"
    }
  },
  "cells": [
    {
      "cell_type": "markdown",
      "metadata": {
        "id": "view-in-github",
        "colab_type": "text"
      },
      "source": [
        "<a href=\"https://colab.research.google.com/github/kittikhun62/Multivariate/blob/main/MVA001.ipynb\" target=\"_parent\"><img src=\"https://colab.research.google.com/assets/colab-badge.svg\" alt=\"Open In Colab\"/></a>"
      ]
    },
    {
      "cell_type": "markdown",
      "metadata": {
        "id": "ruyUHLzBS-jj"
      },
      "source": [
        "Scalar, vector,Matrix"
      ]
    },
    {
      "cell_type": "markdown",
      "metadata": {
        "id": "1rxhIPOxYx3v"
      },
      "source": [
        "### scalar"
      ]
    },
    {
      "cell_type": "code",
      "metadata": {
        "id": "cAF_VofET4ja"
      },
      "source": [
        "import numpy as np\r\n"
      ],
      "execution_count": 1,
      "outputs": []
    },
    {
      "cell_type": "code",
      "metadata": {
        "colab": {
          "base_uri": "https://localhost:8080/"
        },
        "id": "w5fBQiRyS3ui",
        "outputId": "48c9e5fd-5d85-472b-9f70-ea42c0de3f3c"
      },
      "source": [
        "scalar_a = 10 #scalar\r\n",
        "print(scalar_a)"
      ],
      "execution_count": 2,
      "outputs": [
        {
          "output_type": "stream",
          "text": [
            "10\n"
          ],
          "name": "stdout"
        }
      ]
    },
    {
      "cell_type": "markdown",
      "metadata": {
        "id": "VfrMNcLLZQRz"
      },
      "source": [
        "## vector"
      ]
    },
    {
      "cell_type": "code",
      "metadata": {
        "colab": {
          "base_uri": "https://localhost:8080/"
        },
        "id": "pA7yKqvcTw79",
        "outputId": "2edd4b23-93c2-4bec-c8fc-45368d7f9258"
      },
      "source": [
        "vector_b = np.zeros([2,1])\r\n",
        "vector_b[0,0] = 1\r\n",
        "vector_b[1,0] = 3\r\n",
        "print(vector_b)\r\n",
        "print(vector_b.T.shape)"
      ],
      "execution_count": 3,
      "outputs": [
        {
          "output_type": "stream",
          "text": [
            "[[1.]\n",
            " [3.]]\n",
            "(1, 2)\n"
          ],
          "name": "stdout"
        }
      ]
    },
    {
      "cell_type": "code",
      "metadata": {
        "colab": {
          "base_uri": "https://localhost:8080/"
        },
        "id": "0qMbkkUgTw3h",
        "outputId": "deff0eb8-8811-4359-a75f-127fbcefb0aa"
      },
      "source": [
        "vector_c = np.array([[1],[3]])\r\n",
        "print(vector_c)\r\n",
        "print(vector_c.shape)"
      ],
      "execution_count": 4,
      "outputs": [
        {
          "output_type": "stream",
          "text": [
            "[[1]\n",
            " [3]]\n",
            "(2, 1)\n"
          ],
          "name": "stdout"
        }
      ]
    },
    {
      "cell_type": "code",
      "metadata": {
        "id": "YwfcWObYTwy9"
      },
      "source": [
        "from matplotlib import  pyplot as plt"
      ],
      "execution_count": 5,
      "outputs": []
    },
    {
      "cell_type": "code",
      "metadata": {
        "colab": {
          "base_uri": "https://localhost:8080/",
          "height": 282
        },
        "id": "2HgUff0WTwsG",
        "outputId": "b5eba9d4-3945-4406-cd30-92caa71bb0f6"
      },
      "source": [
        "plt.plot(vector_b[0,0],vector_b[1,0],'or')"
      ],
      "execution_count": 6,
      "outputs": [
        {
          "output_type": "execute_result",
          "data": {
            "text/plain": [
              "[<matplotlib.lines.Line2D at 0x7f77e6fdda90>]"
            ]
          },
          "metadata": {
            "tags": []
          },
          "execution_count": 6
        },
        {
          "output_type": "display_data",
          "data": {
            "image/png": "[encoded data removed]",
            "text/plain": [
              "<Figure size 432x288 with 1 Axes>"
            ]
          },
          "metadata": {
            "tags": [],
            "needs_background": "light"
          }
        }
      ]
    },
    {
      "cell_type": "markdown",
      "metadata": {
        "id": "0y6yzEIVXvN9"
      },
      "source": [
        "ขนาดของ vector คคำนวณได้โดย พิทากอรัส "
      ]
    },
    {
      "cell_type": "code",
      "metadata": {
        "colab": {
          "base_uri": "https://localhost:8080/"
        },
        "id": "672giRH1WrPR",
        "outputId": "6fbb2a79-9f03-4955-97e9-3b926437bb13"
      },
      "source": [
        "vector_b_size = ((vector_b[0,0]**2) + (vector_b[1,0]**2))**0.5\r\n",
        "print(vector_b_size)"
      ],
      "execution_count": 7,
      "outputs": [
        {
          "output_type": "stream",
          "text": [
            "3.1622776601683795\n"
          ],
          "name": "stdout"
        }
      ]
    },
    {
      "cell_type": "markdown",
      "metadata": {
        "id": "T3_cxgW4ZFWG"
      },
      "source": [
        "Martrix  ชุดของbata\r\n"
      ]
    },
    {
      "cell_type": "code",
      "metadata": {
        "colab": {
          "base_uri": "https://localhost:8080/"
        },
        "id": "n9JWS8Q_WrNA",
        "outputId": "def20a3f-eaa7-4149-948e-a286e05e75e9"
      },
      "source": [
        "matrix_d = np.array([[2,3],[1,4],[-1,1]])\r\n",
        "print(matrix_d)"
      ],
      "execution_count": 8,
      "outputs": [
        {
          "output_type": "stream",
          "text": [
            "[[ 2  3]\n",
            " [ 1  4]\n",
            " [-1  1]]\n"
          ],
          "name": "stdout"
        }
      ]
    },
    {
      "cell_type": "code",
      "metadata": {
        "colab": {
          "base_uri": "https://localhost:8080/"
        },
        "id": "8GRv2JwYZ6rZ",
        "outputId": "cba88395-6679-4c97-e717-2c5e87154834"
      },
      "source": [
        "matrix_d = matrix_d.T\r\n",
        "print(matrix_d)"
      ],
      "execution_count": 9,
      "outputs": [
        {
          "output_type": "stream",
          "text": [
            "[[ 2  1 -1]\n",
            " [ 3  4  1]]\n"
          ],
          "name": "stdout"
        }
      ]
    },
    {
      "cell_type": "code",
      "metadata": {
        "colab": {
          "base_uri": "https://localhost:8080/",
          "height": 282
        },
        "id": "Ri7D5n4qZ6qo",
        "outputId": "53ae6bc3-bd8f-4f24-bb16-6951608c7d17"
      },
      "source": [
        "plt.plot(matrix_d[0,:],matrix_d[1,:], 'or')  ## plot(ค่าx, ค่าy, หน้าตาของจุด)\r\n",
        "plt.plot(0,0, '.b')  \r\n",
        "plt.plot([0,0],[-1,5],'^:k')\r\n",
        "plt.plot([-1.5,2.5],[0,0],'>:k')"
      ],
      "execution_count": 15,
      "outputs": [
        {
          "output_type": "execute_result",
          "data": {
            "text/plain": [
              "[<matplotlib.lines.Line2D at 0x7f77e69e0898>]"
            ]
          },
          "metadata": {
            "tags": []
          },
          "execution_count": 15
        },
        {
          "output_type": "display_data",
          "data": {
            "image/png": "[encoded data removed]",
            "text/plain": [
              "<Figure size 432x288 with 1 Axes>"
            ]
          },
          "metadata": {
            "tags": [],
            "needs_background": "light"
          }
        }
      ]
    },
    {
      "cell_type": "code",
      "metadata": {
        "colab": {
          "base_uri": "https://localhost:8080/"
        },
        "id": "AK4s1L17bDbO",
        "outputId": "59d9c53d-3a8e-4ea8-c1e4-2cf61d35805c"
      },
      "source": [
        "A = np.array([[3,-1,2],[1,5,4]])\r\n",
        "print(A)"
      ],
      "execution_count": 11,
      "outputs": [
        {
          "output_type": "stream",
          "text": [
            "[[ 3 -1  2]\n",
            " [ 1  5  4]]\n"
          ],
          "name": "stdout"
        }
      ]
    },
    {
      "cell_type": "code",
      "metadata": {
        "colab": {
          "base_uri": "https://localhost:8080/"
        },
        "id": "__EL5BlkkSfJ",
        "outputId": "dc18921b-d11b-4259-aaa5-b8c716b9d839"
      },
      "source": [
        "A.T"
      ],
      "execution_count": 12,
      "outputs": [
        {
          "output_type": "execute_result",
          "data": {
            "text/plain": [
              "array([[ 3,  1],\n",
              "       [-1,  5],\n",
              "       [ 2,  4]])"
            ]
          },
          "metadata": {
            "tags": []
          },
          "execution_count": 12
        }
      ]
    },
    {
      "cell_type": "markdown",
      "metadata": {
        "id": "vKH7lppIlVfD"
      },
      "source": [
        "### Matrix Multiply"
      ]
    },
    {
      "cell_type": "markdown",
      "metadata": {
        "id": "kXPMyNz9lbeT"
      },
      "source": [
        "$B = A*A'$"
      ]
    },
    {
      "cell_type": "code",
      "metadata": {
        "colab": {
          "base_uri": "https://localhost:8080/"
        },
        "id": "m5AW-Nu_kXEk",
        "outputId": "810cafa9-28a3-46d9-d636-5a2b66fe41ab"
      },
      "source": [
        "B = np.dot(A,A.T)\r\n",
        "print(B)"
      ],
      "execution_count": 13,
      "outputs": [
        {
          "output_type": "stream",
          "text": [
            "[[14  6]\n",
            " [ 6 42]]\n"
          ],
          "name": "stdout"
        }
      ]
    },
    {
      "cell_type": "markdown",
      "metadata": {
        "id": "_AERHiQxl9x9"
      },
      "source": [
        "## Determinant\r\n",
        "$Det(B)$"
      ]
    },
    {
      "cell_type": "code",
      "metadata": {
        "colab": {
          "base_uri": "https://localhost:8080/"
        },
        "id": "Nen8ig9Wlj_R",
        "outputId": "1ec52672-3468-41c6-c011-36d17b03681f"
      },
      "source": [
        "np.linalg.det(B)"
      ],
      "execution_count": 14,
      "outputs": [
        {
          "output_type": "execute_result",
          "data": {
            "text/plain": [
              "551.9999999999998"
            ]
          },
          "metadata": {
            "tags": []
          },
          "execution_count": 14
        }
      ]
    },
    {
      "cell_type": "code",
      "metadata": {
        "id": "r2TeYJrWu30E"
      },
      "source": [
        ""
      ],
      "execution_count": null,
      "outputs": []
    },
    {
      "cell_type": "markdown",
      "metadata": {
        "id": "It9hQIqxsWq_"
      },
      "source": [
        "linalg = linear algebra"
      ]
    },
    {
      "cell_type": "markdown",
      "metadata": {
        "id": "6iv9_dnGsuyE"
      },
      "source": [
        "matrix algebra เพิ่มเติม "
      ]
    },
    {
      "cell_type": "code",
      "metadata": {
        "id": "5Xc2REC4mef_",
        "colab": {
          "base_uri": "https://localhost:8080/",
          "height": 282
        },
        "outputId": "f5d32d35-03c2-4bfb-9f10-451163d41e44"
      },
      "source": [
        "plt.plot([0,1],[0,1], '-r') ## vector [1,1]\r\n",
        "plt.plot(0,0, '.b') \r\n",
        "plt.plot([0,0],[-1,5],'^:k')\r\n",
        "plt.plot([-1.5,2.5],[0,0],'>:k')"
      ],
      "execution_count": null,
      "outputs": [
        {
          "output_type": "execute_result",
          "data": {
            "text/plain": [
              "[<matplotlib.lines.Line2D at 0x7fd8481eb668>]"
            ]
          },
          "metadata": {
            "tags": []
          },
          "execution_count": 19
        },
        {
          "output_type": "display_data",
          "data": {
            "image/png": "[encoded data removed]",
            "text/plain": [
              "<Figure size 432x288 with 1 Axes>"
            ]
          },
          "metadata": {
            "tags": [],
            "needs_background": "light"
          }
        }
      ]
    },
    {
      "cell_type": "code",
      "metadata": {
        "id": "E1gDeprntfh5",
        "colab": {
          "base_uri": "https://localhost:8080/"
        },
        "outputId": "7894332a-4b8f-4dbc-e3ad-5c6c01ff026a"
      },
      "source": [
        "B = np.array([[1,2],[3,4]])\r\n",
        "B"
      ],
      "execution_count": null,
      "outputs": [
        {
          "output_type": "execute_result",
          "data": {
            "text/plain": [
              "array([[1, 2],\n",
              "       [3, 4]])"
            ]
          },
          "metadata": {
            "tags": []
          },
          "execution_count": 21
        }
      ]
    },
    {
      "cell_type": "markdown",
      "metadata": {
        "id": "rWbUx8MjvhDi"
      },
      "source": [
        "การคูณ Matrix ($B.v$) คือ การทำ linear transformation"
      ]
    },
    {
      "cell_type": "code",
      "metadata": {
        "id": "d5RNh3N4zYwc",
        "colab": {
          "base_uri": "https://localhost:8080/"
        },
        "outputId": "09a83a91-3824-441c-b00d-b7effa7d32a7"
      },
      "source": [
        "v = np.array([[1],[1]])\r\n",
        "v"
      ],
      "execution_count": null,
      "outputs": [
        {
          "output_type": "execute_result",
          "data": {
            "text/plain": [
              "array([[1],\n",
              "       [1]])"
            ]
          },
          "metadata": {
            "tags": []
          },
          "execution_count": 27
        }
      ]
    },
    {
      "cell_type": "code",
      "metadata": {
        "id": "s7I89PnMukwg",
        "colab": {
          "base_uri": "https://localhost:8080/"
        },
        "outputId": "aae5190e-5ae8-4440-c12a-34377978b481"
      },
      "source": [
        "Bv = np.dot(B,v)\r\n",
        "Bv"
      ],
      "execution_count": null,
      "outputs": [
        {
          "output_type": "execute_result",
          "data": {
            "text/plain": [
              "array([[3],\n",
              "       [7]])"
            ]
          },
          "metadata": {
            "tags": []
          },
          "execution_count": 28
        }
      ]
    },
    {
      "cell_type": "code",
      "metadata": {
        "id": "_8mMCFA6u612",
        "colab": {
          "base_uri": "https://localhost:8080/",
          "height": 282
        },
        "outputId": "95feeffa-f0de-4f34-c6e9-bd91a7b17579"
      },
      "source": [
        "plt.plot([0,Bv[0,0]],[0,Bv[1,0]], '-g') ## vector Bv\r\n",
        "plt.plot([0,1],[0,1], '-r') ## vector [1,1]\r\n",
        "plt.plot(0,0, '.b') \r\n",
        "plt.plot([0,0],[-1,5],'^:k')\r\n",
        "plt.plot([-1.5,2.5],[0,0],'>:k')"
      ],
      "execution_count": null,
      "outputs": [
        {
          "output_type": "execute_result",
          "data": {
            "text/plain": [
              "[<matplotlib.lines.Line2D at 0x7fd847e68dd8>]"
            ]
          },
          "metadata": {
            "tags": []
          },
          "execution_count": 23
        },
        {
          "output_type": "display_data",
          "data": {
            "image/png": "[encoded data removed]",
            "text/plain": [
              "<Figure size 432x288 with 1 Axes>"
            ]
          },
          "metadata": {
            "tags": [],
            "needs_background": "light"
          }
        }
      ]
    },
    {
      "cell_type": "markdown",
      "metadata": {
        "id": "sRZwsFMnvfw-"
      },
      "source": [
        "Determinant ของ Matrix ($Det(B)$) คือ พื้นที่ของ unit vector ที่ถูกเปลี่ยนไป โดย Matrix นั้นๆ"
      ]
    },
    {
      "cell_type": "code",
      "metadata": {
        "id": "FuBMYHlRvLT7",
        "colab": {
          "base_uri": "https://localhost:8080/",
          "height": 282
        },
        "outputId": "565b399f-93e5-475b-925b-2681fe7aebeb"
      },
      "source": [
        "plt.plot([0,Bv[0,0]],[0,Bv[1,0]], '-g') ## vector Bv\r\n",
        "plt.plot([3,3],[7,0], ':g') ## วาดจุดไข่ปลา พื้นที่ของ Bv\r\n",
        "plt.plot([3,0],[7,7], ':g') ## วาดจุดไข่ปลา พื้นที่ของ Bv\r\n",
        "plt.plot([0,1],[0,1], '-r') ## vector v ([1,1])\r\n",
        "plt.plot([1,1],[1,0], ':r') ## วาดจุดไข่ปลา พื้นที่ของ v\r\n",
        "plt.plot([1,0],[1,1], ':r') ## วาดจุดไข่ปลา พื้นที่ของ v\r\n",
        "plt.plot(0,0, '.b') \r\n",
        "plt.plot([0,0],[-1,8],'^:k')\r\n",
        "plt.plot([-1.5,3.5],[0,0],'>:k')"
      ],
      "execution_count": null,
      "outputs": [
        {
          "output_type": "execute_result",
          "data": {
            "text/plain": [
              "[<matplotlib.lines.Line2D at 0x7fd847c3d470>]"
            ]
          },
          "metadata": {
            "tags": []
          },
          "execution_count": 30
        },
        {
          "output_type": "display_data",
          "data": {
            "image/png": "[encoded data removed]",
            "text/plain": [
              "<Figure size 432x288 with 1 Axes>"
            ]
          },
          "metadata": {
            "tags": [],
            "needs_background": "light"
          }
        }
      ]
    },
    {
      "cell_type": "markdown",
      "metadata": {
        "id": "BpSp15eO1Azp"
      },
      "source": [
        "Identity matrix ($I$)\r\n",
        "\r\n",
        "$BI = B = IB$"
      ]
    },
    {
      "cell_type": "code",
      "metadata": {
        "id": "ARjk4BVT14LC"
      },
      "source": [
        "iden2 = np.identity(2)"
      ],
      "execution_count": null,
      "outputs": []
    },
    {
      "cell_type": "code",
      "metadata": {
        "id": "ziFAN0-o2Kfv",
        "colab": {
          "base_uri": "https://localhost:8080/"
        },
        "outputId": "61fddeb7-8386-4e8c-8b64-d115a98870d7"
      },
      "source": [
        "B"
      ],
      "execution_count": null,
      "outputs": [
        {
          "output_type": "execute_result",
          "data": {
            "text/plain": [
              "array([[1, 2],\n",
              "       [3, 4]])"
            ]
          },
          "metadata": {
            "tags": []
          },
          "execution_count": 32
        }
      ]
    },
    {
      "cell_type": "code",
      "metadata": {
        "id": "3TaKvyrtyJgF",
        "colab": {
          "base_uri": "https://localhost:8080/"
        },
        "outputId": "25ca8f98-03b6-4695-e2e3-eebed71e4c75"
      },
      "source": [
        "np.dot(B,iden2)"
      ],
      "execution_count": null,
      "outputs": [
        {
          "output_type": "execute_result",
          "data": {
            "text/plain": [
              "array([[1., 2.],\n",
              "       [3., 4.]])"
            ]
          },
          "metadata": {
            "tags": []
          },
          "execution_count": 34
        }
      ]
    },
    {
      "cell_type": "code",
      "metadata": {
        "id": "oadRomzR2ODB",
        "colab": {
          "base_uri": "https://localhost:8080/"
        },
        "outputId": "59da6288-f086-4dcf-d30c-8fc59e2433eb"
      },
      "source": [
        "np.dot(iden2,B)"
      ],
      "execution_count": null,
      "outputs": [
        {
          "output_type": "execute_result",
          "data": {
            "text/plain": [
              "array([[1., 2.],\n",
              "       [3., 4.]])"
            ]
          },
          "metadata": {
            "tags": []
          },
          "execution_count": 35
        }
      ]
    },
    {
      "cell_type": "code",
      "metadata": {
        "id": "zAR4s4U12XIg",
        "colab": {
          "base_uri": "https://localhost:8080/"
        },
        "outputId": "9da9b01a-97ea-4574-c28e-f19cad9f7721"
      },
      "source": [
        "C = np.array([[-1,2],[2,4]])\r\n",
        "C"
      ],
      "execution_count": null,
      "outputs": [
        {
          "output_type": "execute_result",
          "data": {
            "text/plain": [
              "array([[-1,  2],\n",
              "       [ 2,  4]])"
            ]
          },
          "metadata": {
            "tags": []
          },
          "execution_count": 36
        }
      ]
    },
    {
      "cell_type": "code",
      "metadata": {
        "id": "_OXRe-P_2jKC",
        "colab": {
          "base_uri": "https://localhost:8080/"
        },
        "outputId": "462baa3f-0636-457c-f917-69499a7faeb3"
      },
      "source": [
        "np.dot(B,C)"
      ],
      "execution_count": null,
      "outputs": [
        {
          "output_type": "execute_result",
          "data": {
            "text/plain": [
              "array([[ 3, 10],\n",
              "       [ 5, 22]])"
            ]
          },
          "metadata": {
            "tags": []
          },
          "execution_count": 38
        }
      ]
    },
    {
      "cell_type": "code",
      "metadata": {
        "id": "y35lo3ze2mq0",
        "colab": {
          "base_uri": "https://localhost:8080/"
        },
        "outputId": "ff284d5d-0c8d-4ea0-f730-ffce5d817b83"
      },
      "source": [
        "np.dot(C,B)"
      ],
      "execution_count": null,
      "outputs": [
        {
          "output_type": "execute_result",
          "data": {
            "text/plain": [
              "array([[ 5,  6],\n",
              "       [14, 20]])"
            ]
          },
          "metadata": {
            "tags": []
          },
          "execution_count": 39
        }
      ]
    },
    {
      "cell_type": "markdown",
      "metadata": {
        "id": "RTN64-iV3ugl"
      },
      "source": [
        "การบ้านในห้อง (Quiz 1- commit: quiz 1feb21)\r\n",
        "หา \r\n",
        "![det 3by3.PNG](data:image/png;base64,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)"
      ]
    },
    {
      "cell_type": "markdown",
      "metadata": {
        "id": "asKN119p6tP4"
      },
      "source": [
        "Eigen value กับ Eigen vector\r\n",
        "\r\n",
        "- Eigen value ($\\lambda$) -> $|A-\\lambda I| = 0$   \r\n",
        "- Eigen vector ($x$) -> $Ax = \\lambda x$"
      ]
    },
    {
      "cell_type": "markdown",
      "metadata": {
        "id": "O_Fu08BZ-Bei"
      },
      "source": [
        "HW 5 หา Eigen value กับ Eigen vector ของ \r\n",
        "![HW5.PNG](data:image/png;base64,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)"
      ]
    },
    {
      "cell_type": "code",
      "metadata": {
        "id": "wTRORzxQ2qXE"
      },
      "source": [
        ""
      ],
      "execution_count": null,
      "outputs": []
    },
    {
      "cell_type": "markdown",
      "metadata": {
        "id": "ow3y95Cm8-rn"
      },
      "source": [
        "Inverse Matrix"
      ]
    },
    {
      "cell_type": "code",
      "metadata": {
        "id": "lVmspU4Cu3x5"
      },
      "source": [
        ""
      ],
      "execution_count": null,
      "outputs": []
    },
    {
      "cell_type": "code",
      "metadata": {
        "id": "l13fVMptu3sd"
      },
      "source": [
        ""
      ],
      "execution_count": null,
      "outputs": []
    },
    {
      "cell_type": "code",
      "metadata": {
        "id": "BknxBnQCu3ru"
      },
      "source": [
        ""
      ],
      "execution_count": null,
      "outputs": []
    },
    {
      "cell_type": "markdown",
      "metadata": {
        "id": "2he2dxffS-k0"
      },
      "source": [
        ""
      ]
    }
  ]
}
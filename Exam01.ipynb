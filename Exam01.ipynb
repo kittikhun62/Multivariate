{
  "nbformat": 4,
  "nbformat_minor": 0,
  "metadata": {
    "colab": {
      "name": "Exam01.ipynb",
      "provenance": [],
      "authorship_tag": "ABX9TyOmv9GNBO/NuV4Fdq1RQOm8",
      "include_colab_link": true
    },
    "kernelspec": {
      "name": "python3",
      "display_name": "Python 3"
    }
  },
  "cells": [
    {
      "cell_type": "markdown",
      "metadata": {
        "id": "view-in-github",
        "colab_type": "text"
      },
      "source": [
        "<a href=\"https://colab.research.google.com/github/kittikhun62/Multivariate/blob/main/Exam01.ipynb\" target=\"_parent\"><img src=\"https://colab.research.google.com/assets/colab-badge.svg\" alt=\"Open In Colab\"/></a>"
      ]
    },
    {
      "cell_type": "code",
      "metadata": {
        "id": "zSLwUMCzRL4c"
      },
      "source": [
        "import pandas as pd\r\n"
      ],
      "execution_count": 3,
      "outputs": []
    },
    {
      "cell_type": "code",
      "metadata": {
        "colab": {
          "base_uri": "https://localhost:8080/",
          "height": 419
        },
        "id": "pTwMM3ZMSuNg",
        "outputId": "0a0cc7ad-80a7-4719-a9a4-966fe5bc2d0a"
      },
      "source": [
        "pollution_data = pd.read_csv('/content/Pizza.csv',sep='\\t')\r\n",
        "pollution_data"
      ],
      "execution_count": 4,
      "outputs": [
        {
          "output_type": "execute_result",
          "data": {
            "text/html": [
              "<div>\n",
              "<style scoped>\n",
              "    .dataframe tbody tr th:only-of-type {\n",
              "        vertical-align: middle;\n",
              "    }\n",
              "\n",
              "    .dataframe tbody tr th {\n",
              "        vertical-align: top;\n",
              "    }\n",
              "\n",
              "    .dataframe thead th {\n",
              "        text-align: right;\n",
              "    }\n",
              "</style>\n",
              "<table border=\"1\" class=\"dataframe\">\n",
              "  <thead>\n",
              "    <tr style=\"text-align: right;\">\n",
              "      <th></th>\n",
              "      <th>brand,id,mois,prot,fat,ash,sodium,carb,cal</th>\n",
              "    </tr>\n",
              "  </thead>\n",
              "  <tbody>\n",
              "    <tr>\n",
              "      <th>0</th>\n",
              "      <td>A,14069,27.82,21.43,44.87,5.11,1.77,0.77,4.93</td>\n",
              "    </tr>\n",
              "    <tr>\n",
              "      <th>1</th>\n",
              "      <td>A,14053,28.49,21.26,43.89,5.34,1.79,1.02,4.84</td>\n",
              "    </tr>\n",
              "    <tr>\n",
              "      <th>2</th>\n",
              "      <td>A,14025,28.35,19.99,45.78,5.08,1.63,0.8,4.95</td>\n",
              "    </tr>\n",
              "    <tr>\n",
              "      <th>3</th>\n",
              "      <td>A,14016,30.55,20.15,43.13,4.79,1.61,1.38,4.74</td>\n",
              "    </tr>\n",
              "    <tr>\n",
              "      <th>4</th>\n",
              "      <td>A,14005,30.49,21.28,41.65,4.82,1.64,1.76,4.67</td>\n",
              "    </tr>\n",
              "    <tr>\n",
              "      <th>...</th>\n",
              "      <td>...</td>\n",
              "    </tr>\n",
              "    <tr>\n",
              "      <th>295</th>\n",
              "      <td>J,34044,44.91,11.07,17,2.49,0.66,25.36,2.91</td>\n",
              "    </tr>\n",
              "    <tr>\n",
              "      <th>296</th>\n",
              "      <td>J,24069,43.15,11.79,18.46,2.43,0.67,24.17,3.1</td>\n",
              "    </tr>\n",
              "    <tr>\n",
              "      <th>297</th>\n",
              "      <td>J,34039,44.55,11.01,16.03,2.43,0.64,25.98,2.92</td>\n",
              "    </tr>\n",
              "    <tr>\n",
              "      <th>298</th>\n",
              "      <td>J,14044,47.6,10.43,15.18,2.32,0.56,24.47,2.76</td>\n",
              "    </tr>\n",
              "    <tr>\n",
              "      <th>299</th>\n",
              "      <td>J,14045,46.84,9.91,15.5,2.27,0.57,25.48,2.81</td>\n",
              "    </tr>\n",
              "  </tbody>\n",
              "</table>\n",
              "<p>300 rows × 1 columns</p>\n",
              "</div>"
            ],
            "text/plain": [
              "         brand,id,mois,prot,fat,ash,sodium,carb,cal\n",
              "0     A,14069,27.82,21.43,44.87,5.11,1.77,0.77,4.93\n",
              "1     A,14053,28.49,21.26,43.89,5.34,1.79,1.02,4.84\n",
              "2      A,14025,28.35,19.99,45.78,5.08,1.63,0.8,4.95\n",
              "3     A,14016,30.55,20.15,43.13,4.79,1.61,1.38,4.74\n",
              "4     A,14005,30.49,21.28,41.65,4.82,1.64,1.76,4.67\n",
              "..                                              ...\n",
              "295     J,34044,44.91,11.07,17,2.49,0.66,25.36,2.91\n",
              "296   J,24069,43.15,11.79,18.46,2.43,0.67,24.17,3.1\n",
              "297  J,34039,44.55,11.01,16.03,2.43,0.64,25.98,2.92\n",
              "298   J,14044,47.6,10.43,15.18,2.32,0.56,24.47,2.76\n",
              "299    J,14045,46.84,9.91,15.5,2.27,0.57,25.48,2.81\n",
              "\n",
              "[300 rows x 1 columns]"
            ]
          },
          "metadata": {
            "tags": []
          },
          "execution_count": 4
        }
      ]
    },
    {
      "cell_type": "code",
      "metadata": {
        "colab": {
          "base_uri": "https://localhost:8080/",
          "height": 439
        },
        "id": "BW39woTVVTFo",
        "outputId": "9240dec4-4e10-4a1d-a52b-43c5aeffcc71"
      },
      "source": [
        "pollution_data1 = pd.read_csv('/content/nndb_flat.csv',sep='\\t')\r\n",
        "pollution_data1"
      ],
      "execution_count": 5,
      "outputs": [
        {
          "output_type": "execute_result",
          "data": {
            "text/html": [
              "<div>\n",
              "<style scoped>\n",
              "    .dataframe tbody tr th:only-of-type {\n",
              "        vertical-align: middle;\n",
              "    }\n",
              "\n",
              "    .dataframe tbody tr th {\n",
              "        vertical-align: top;\n",
              "    }\n",
              "\n",
              "    .dataframe thead th {\n",
              "        text-align: right;\n",
              "    }\n",
              "</style>\n",
              "<table border=\"1\" class=\"dataframe\">\n",
              "  <thead>\n",
              "    <tr style=\"text-align: right;\">\n",
              "      <th></th>\n",
              "      <th>ID,FoodGroup,ShortDescrip,Descrip,CommonName,MfgName,ScientificName,Energy_kcal,Protein_g,Fat_g,Carb_g,Sugar_g,Fiber_g,VitA_mcg,VitB6_mg,VitB12_mcg,VitC_mg,VitE_mg,Folate_mcg,Niacin_mg,Riboflavin_mg,Thiamin_mg,Calcium_mg,Copper_mcg,Iron_mg,Magnesium_mg,Manganese_mg,Phosphorus_mg,Selenium_mcg,Zinc_mg,VitA_USRDA,VitB6_USRDA,VitB12_USRDA,VitC_USRDA,VitE_USRDA,Folate_USRDA,Niacin_USRDA,Riboflavin_USRDA,Thiamin_USRDA,Calcium_USRDA,Copper_USRDA,Magnesium_USRDA,Phosphorus_USRDA,Selenium_USRDA,Zinc_USRDA</th>\n",
              "    </tr>\n",
              "  </thead>\n",
              "  <tbody>\n",
              "    <tr>\n",
              "      <th>0</th>\n",
              "      <td>01001,Dairy and Egg Products,\"BUTTER,WITH SALT...</td>\n",
              "    </tr>\n",
              "    <tr>\n",
              "      <th>1</th>\n",
              "      <td>01002,Dairy and Egg Products,\"BUTTER,WHIPPED,W...</td>\n",
              "    </tr>\n",
              "    <tr>\n",
              "      <th>2</th>\n",
              "      <td>01003,Dairy and Egg Products,\"BUTTER OIL,ANHYD...</td>\n",
              "    </tr>\n",
              "    <tr>\n",
              "      <th>3</th>\n",
              "      <td>01004,Dairy and Egg Products,\"CHEESE,BLUE\",\"Ch...</td>\n",
              "    </tr>\n",
              "    <tr>\n",
              "      <th>4</th>\n",
              "      <td>01005,Dairy and Egg Products,\"CHEESE,BRICK\",\"C...</td>\n",
              "    </tr>\n",
              "    <tr>\n",
              "      <th>...</th>\n",
              "      <td>...</td>\n",
              "    </tr>\n",
              "    <tr>\n",
              "      <th>8613</th>\n",
              "      <td>83110,Finfish and Shellfish Products,\"MACKEREL...</td>\n",
              "    </tr>\n",
              "    <tr>\n",
              "      <th>8614</th>\n",
              "      <td>90240,Finfish and Shellfish Products,\"SCALLOP,...</td>\n",
              "    </tr>\n",
              "    <tr>\n",
              "      <th>8615</th>\n",
              "      <td>90480,Sweets,\"SYRUP,CANE\",\"Syrup, Cane\",,,,269...</td>\n",
              "    </tr>\n",
              "    <tr>\n",
              "      <th>8616</th>\n",
              "      <td>90560,Finfish and Shellfish Products,\"SNAIL,RA...</td>\n",
              "    </tr>\n",
              "    <tr>\n",
              "      <th>8617</th>\n",
              "      <td>93600,Finfish and Shellfish Products,\"TURTLE,G...</td>\n",
              "    </tr>\n",
              "  </tbody>\n",
              "</table>\n",
              "<p>8618 rows × 1 columns</p>\n",
              "</div>"
            ],
            "text/plain": [
              "     ID,FoodGroup,ShortDescrip,Descrip,CommonName,MfgName,ScientificName,Energy_kcal,Protein_g,Fat_g,Carb_g,Sugar_g,Fiber_g,VitA_mcg,VitB6_mg,VitB12_mcg,VitC_mg,VitE_mg,Folate_mcg,Niacin_mg,Riboflavin_mg,Thiamin_mg,Calcium_mg,Copper_mcg,Iron_mg,Magnesium_mg,Manganese_mg,Phosphorus_mg,Selenium_mcg,Zinc_mg,VitA_USRDA,VitB6_USRDA,VitB12_USRDA,VitC_USRDA,VitE_USRDA,Folate_USRDA,Niacin_USRDA,Riboflavin_USRDA,Thiamin_USRDA,Calcium_USRDA,Copper_USRDA,Magnesium_USRDA,Phosphorus_USRDA,Selenium_USRDA,Zinc_USRDA\n",
              "0     01001,Dairy and Egg Products,\"BUTTER,WITH SALT...                                                                                                                                                                                                                                                                                                                                                                                                                                                                   \n",
              "1     01002,Dairy and Egg Products,\"BUTTER,WHIPPED,W...                                                                                                                                                                                                                                                                                                                                                                                                                                                                   \n",
              "2     01003,Dairy and Egg Products,\"BUTTER OIL,ANHYD...                                                                                                                                                                                                                                                                                                                                                                                                                                                                   \n",
              "3     01004,Dairy and Egg Products,\"CHEESE,BLUE\",\"Ch...                                                                                                                                                                                                                                                                                                                                                                                                                                                                   \n",
              "4     01005,Dairy and Egg Products,\"CHEESE,BRICK\",\"C...                                                                                                                                                                                                                                                                                                                                                                                                                                                                   \n",
              "...                                                 ...                                                                                                                                                                                                                                                                                                                                                                                                                                                                   \n",
              "8613  83110,Finfish and Shellfish Products,\"MACKEREL...                                                                                                                                                                                                                                                                                                                                                                                                                                                                   \n",
              "8614  90240,Finfish and Shellfish Products,\"SCALLOP,...                                                                                                                                                                                                                                                                                                                                                                                                                                                                   \n",
              "8615  90480,Sweets,\"SYRUP,CANE\",\"Syrup, Cane\",,,,269...                                                                                                                                                                                                                                                                                                                                                                                                                                                                   \n",
              "8616  90560,Finfish and Shellfish Products,\"SNAIL,RA...                                                                                                                                                                                                                                                                                                                                                                                                                                                                   \n",
              "8617  93600,Finfish and Shellfish Products,\"TURTLE,G...                                                                                                                                                                                                                                                                                                                                                                                                                                                                   \n",
              "\n",
              "[8618 rows x 1 columns]"
            ]
          },
          "metadata": {
            "tags": []
          },
          "execution_count": 5
        }
      ]
    },
    {
      "cell_type": "code",
      "metadata": {
        "id": "kRQ1b9WhViPG"
      },
      "source": [
        ""
      ],
      "execution_count": null,
      "outputs": []
    }
  ]
}
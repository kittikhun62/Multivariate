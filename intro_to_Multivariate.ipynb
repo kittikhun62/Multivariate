{
  "nbformat": 4,
  "nbformat_minor": 0,
  "metadata": {
    "colab": {
      "name": "intro to Multivariate.ipynb",
      "provenance": [],
      "authorship_tag": "ABX9TyOVkGc39YC4NiDFk+9QJrwY",
      "include_colab_link": true
    },
    "kernelspec": {
      "name": "python3",
      "display_name": "Python 3"
    }
  },
  "cells": [
    {
      "cell_type": "markdown",
      "metadata": {
        "id": "view-in-github",
        "colab_type": "text"
      },
      "source": [
        "<a href=\"https://colab.research.google.com/github/kittikhun62/Multivariate/blob/main/intro_to_Multivariate.ipynb\" target=\"_parent\"><img src=\"https://colab.research.google.com/assets/colab-badge.svg\" alt=\"Open In Colab\"/></a>"
      ]
    },
    {
      "cell_type": "markdown",
      "metadata": {
        "id": "7oiGcXCwiEcv"
      },
      "source": [
        "กิตติคุณ เกียรติศักดิ์ศิริ ID:6230207600\r\n",
        "\r\n",
        "\r\n",
        "\r\n",
        "\r\n",
        "0. เรียนในห้อง (ยังไง)\r\n",
        "1. เรียนออนไลน์ปกติ\r\n",
        "2. อัดวิดีโอลงกลุ่มfacebook เเล้วมาตอบคอมเม้น\r\n"
      ]
    },
    {
      "cell_type": "code",
      "metadata": {
        "colab": {
          "base_uri": "https://localhost:8080/"
        },
        "id": "94_2F364iD6f",
        "outputId": "1e06b446-e4c4-4af2-efd1-4152b770aee2"
      },
      "source": [
        "print('กิตติคุณ') #single quote (') ใช้ล้อมรอบข้อความ"
      ],
      "execution_count": null,
      "outputs": [
        {
          "output_type": "stream",
          "text": [
            "กิตติคุณ\n"
          ],
          "name": "stdout"
        }
      ]
    }
  ]
}
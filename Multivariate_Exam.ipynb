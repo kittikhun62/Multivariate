{
  "nbformat": 4,
  "nbformat_minor": 0,
  "metadata": {
    "colab": {
      "name": "Multivariate Exam.ipynb",
      "provenance": [],
      "include_colab_link": true
    },
    "kernelspec": {
      "name": "python3",
      "display_name": "Python 3"
    },
    "language_info": {
      "name": "python"
    }
  },
  "cells": [
    {
      "cell_type": "markdown",
      "metadata": {
        "id": "view-in-github",
        "colab_type": "text"
      },
      "source": [
        "<a href=\"https://colab.research.google.com/github/kittikhun62/Multivariate/blob/main/Multivariate_Exam.ipynb\" target=\"_parent\"><img src=\"https://colab.research.google.com/assets/colab-badge.svg\" alt=\"Open In Colab\"/></a>"
      ]
    },
    {
      "cell_type": "markdown",
      "metadata": {
        "id": "JZxiNADfaDtv"
      },
      "source": [
        "ให้นักศึกษาทำข้อสอบใน Colab Notebook นี้โดยกรอกข้อมูลของตัวเองใน cell ที่ 2 แล้วรัน cell ที่ 1 - 5 และเริ่มทำข้อสอบใน cell ที่ 6 เป็นต้นไป\n",
        "\n",
        "โดยโจทย์คือ\n",
        "1. ข้อมูลโจทย์ อยู่ใน ตัวแปร ```Data```\n",
        "2. ทำ clustering แล้วทำ visualize ข้อมูลแบบ 2 มิติ\n",
        "3. ลด Dimension ของข้อมูลเหลือ 2 มิติ แล้วทำ clustering แล้ว visualize ข้อมูลแบบ 2 มิติ\n",
        "4. เปรียบเทียบความแตกต่างของผลข้อ 2. กับ ข้อ 3.\n",
        "5. เขียน comments อธิบายทุกขั้นตอน\n",
        "6. อัด video อธิบาย code ทุกๆขั้นตอนรวมถึงผลแล้วอัพลง youtube ในรูปแบบ unlist \n",
        "7. commit โดยใช้ชื่อ commit เป็น link youtube ที่อธิบาย code ในข้อ 6.\n",
        "\n",
        "กำหนดส่งวันที่ 2 พฤษภาคม 2564 (โดยให้มากรอกวันที่ commit ครั้งสุดท้ายใน sheet: https://docs.google.com/spreadsheets/d/1_qJwLDJVtOW1HxBcf_FHVc6UT4J_SOonuR6o3EEnVzw/edit?usp=sharing ช่อง Final)"
      ]
    },
    {
      "cell_type": "code",
      "metadata": {
        "id": "cWl2x1bPGtQl"
      },
      "source": [
        "from sklearn.datasets import make_blobs\n",
        "import random,math\n",
        "import numpy as np\n",
        "import pandas"
      ],
      "execution_count": 1,
      "outputs": []
    },
    {
      "cell_type": "code",
      "metadata": {
        "id": "gZfzuiHsZksh"
      },
      "source": [
        "Name = 'กิตติคุณ เกียรติศักดิ์ศิริ'\n",
        "ID = '6230207600'"
      ],
      "execution_count": 2,
      "outputs": []
    },
    {
      "cell_type": "code",
      "metadata": {
        "id": "8hFQXkF5aAiA"
      },
      "source": [
        "def DataGenerator(name,id):\n",
        "    random.seed(int(id[3:6]))\n",
        "    numfeat = random.randint(20,30)\n",
        "    ct = random.randint(len(name)-6,len(name))\n",
        "    \n",
        "    X, y = make_blobs(n_samples=10000, centers=ct, n_features=numfeat , random_state=int(id[3:6]))\n",
        "\n",
        "    print(f'{id[3:6]}:{numfeat}:{ct}')\n",
        "    X_t = (X[:,1]*2)+int(id[3])\n",
        "    X_t2 = (X[:,-1]*5)+int(id[4])\n",
        "\n",
        "    DT = np.append(X,X_t.reshape([10000,1]),axis=1)\n",
        "    DT = np.append(DT,X_t2.reshape([10000,1]),axis=1)\n",
        "    \n",
        "    return pandas.DataFrame(DT)"
      ],
      "execution_count": 3,
      "outputs": []
    },
    {
      "cell_type": "code",
      "metadata": {
        "colab": {
          "base_uri": "https://localhost:8080/"
        },
        "id": "hbXlxumSBX9i",
        "outputId": "b0e0a92b-df91-4c57-dd45-e0c9200ea130"
      },
      "source": [
        "Data = DataGenerator(Name,ID)"
      ],
      "execution_count": 4,
      "outputs": [
        {
          "output_type": "stream",
          "text": [
            "020:30:26\n"
          ],
          "name": "stdout"
        }
      ]
    },
    {
      "cell_type": "code",
      "metadata": {
        "colab": {
          "base_uri": "https://localhost:8080/",
          "height": 425
        },
        "id": "pQcCySXvBdN-",
        "outputId": "9753014c-0699-4923-eb27-a2b5f3aae73a"
      },
      "source": [
        "Data"
      ],
      "execution_count": 5,
      "outputs": [
        {
          "output_type": "execute_result",
          "data": {
            "text/html": [
              "<div>\n",
              "<style scoped>\n",
              "    .dataframe tbody tr th:only-of-type {\n",
              "        vertical-align: middle;\n",
              "    }\n",
              "\n",
              "    .dataframe tbody tr th {\n",
              "        vertical-align: top;\n",
              "    }\n",
              "\n",
              "    .dataframe thead th {\n",
              "        text-align: right;\n",
              "    }\n",
              "</style>\n",
              "<table border=\"1\" class=\"dataframe\">\n",
              "  <thead>\n",
              "    <tr style=\"text-align: right;\">\n",
              "      <th></th>\n",
              "      <th>0</th>\n",
              "      <th>1</th>\n",
              "      <th>2</th>\n",
              "      <th>3</th>\n",
              "      <th>4</th>\n",
              "      <th>5</th>\n",
              "      <th>6</th>\n",
              "      <th>7</th>\n",
              "      <th>8</th>\n",
              "      <th>9</th>\n",
              "      <th>10</th>\n",
              "      <th>11</th>\n",
              "      <th>12</th>\n",
              "      <th>13</th>\n",
              "      <th>14</th>\n",
              "      <th>15</th>\n",
              "      <th>16</th>\n",
              "      <th>17</th>\n",
              "      <th>18</th>\n",
              "      <th>19</th>\n",
              "      <th>20</th>\n",
              "      <th>21</th>\n",
              "      <th>22</th>\n",
              "      <th>23</th>\n",
              "      <th>24</th>\n",
              "      <th>25</th>\n",
              "      <th>26</th>\n",
              "      <th>27</th>\n",
              "      <th>28</th>\n",
              "      <th>29</th>\n",
              "      <th>30</th>\n",
              "      <th>31</th>\n",
              "    </tr>\n",
              "  </thead>\n",
              "  <tbody>\n",
              "    <tr>\n",
              "      <th>0</th>\n",
              "      <td>5.416075</td>\n",
              "      <td>-2.888296</td>\n",
              "      <td>-9.690855</td>\n",
              "      <td>1.151488</td>\n",
              "      <td>6.831063</td>\n",
              "      <td>9.293195</td>\n",
              "      <td>-8.909361</td>\n",
              "      <td>9.443475</td>\n",
              "      <td>1.118379</td>\n",
              "      <td>-2.828672</td>\n",
              "      <td>0.668603</td>\n",
              "      <td>9.301132</td>\n",
              "      <td>2.385790</td>\n",
              "      <td>5.322632</td>\n",
              "      <td>-8.452852</td>\n",
              "      <td>-7.019485</td>\n",
              "      <td>-0.807720</td>\n",
              "      <td>-1.064149</td>\n",
              "      <td>4.107312</td>\n",
              "      <td>-2.104505</td>\n",
              "      <td>9.330283</td>\n",
              "      <td>-3.486679</td>\n",
              "      <td>-9.123284</td>\n",
              "      <td>3.891806</td>\n",
              "      <td>5.492582</td>\n",
              "      <td>-4.017073</td>\n",
              "      <td>5.771277</td>\n",
              "      <td>-9.422485</td>\n",
              "      <td>7.588485</td>\n",
              "      <td>5.476468</td>\n",
              "      <td>-5.776593</td>\n",
              "      <td>29.382341</td>\n",
              "    </tr>\n",
              "    <tr>\n",
              "      <th>1</th>\n",
              "      <td>5.638002</td>\n",
              "      <td>7.434348</td>\n",
              "      <td>6.938144</td>\n",
              "      <td>-5.132548</td>\n",
              "      <td>-5.510815</td>\n",
              "      <td>-4.016085</td>\n",
              "      <td>9.337993</td>\n",
              "      <td>1.893596</td>\n",
              "      <td>6.388560</td>\n",
              "      <td>-10.237081</td>\n",
              "      <td>7.187227</td>\n",
              "      <td>-10.364249</td>\n",
              "      <td>-8.742190</td>\n",
              "      <td>-11.252525</td>\n",
              "      <td>-4.958954</td>\n",
              "      <td>-3.794558</td>\n",
              "      <td>7.448764</td>\n",
              "      <td>6.726902</td>\n",
              "      <td>3.591231</td>\n",
              "      <td>7.856392</td>\n",
              "      <td>-10.350801</td>\n",
              "      <td>4.573680</td>\n",
              "      <td>-8.220857</td>\n",
              "      <td>-5.916394</td>\n",
              "      <td>9.382741</td>\n",
              "      <td>-3.097172</td>\n",
              "      <td>3.572651</td>\n",
              "      <td>0.522263</td>\n",
              "      <td>3.232410</td>\n",
              "      <td>3.633443</td>\n",
              "      <td>14.868695</td>\n",
              "      <td>20.167216</td>\n",
              "    </tr>\n",
              "    <tr>\n",
              "      <th>2</th>\n",
              "      <td>-7.220028</td>\n",
              "      <td>-0.614491</td>\n",
              "      <td>-7.107496</td>\n",
              "      <td>7.942849</td>\n",
              "      <td>7.531426</td>\n",
              "      <td>-8.986606</td>\n",
              "      <td>7.645296</td>\n",
              "      <td>7.405065</td>\n",
              "      <td>8.909399</td>\n",
              "      <td>3.817976</td>\n",
              "      <td>-6.052293</td>\n",
              "      <td>-2.736666</td>\n",
              "      <td>9.038209</td>\n",
              "      <td>-4.603534</td>\n",
              "      <td>-7.230034</td>\n",
              "      <td>-6.978646</td>\n",
              "      <td>1.677081</td>\n",
              "      <td>-10.097775</td>\n",
              "      <td>3.324187</td>\n",
              "      <td>-7.788909</td>\n",
              "      <td>-2.046759</td>\n",
              "      <td>-7.999054</td>\n",
              "      <td>2.914059</td>\n",
              "      <td>-5.503368</td>\n",
              "      <td>2.667048</td>\n",
              "      <td>1.525047</td>\n",
              "      <td>-4.521728</td>\n",
              "      <td>-7.119456</td>\n",
              "      <td>10.828507</td>\n",
              "      <td>2.734674</td>\n",
              "      <td>-1.228981</td>\n",
              "      <td>15.673372</td>\n",
              "    </tr>\n",
              "    <tr>\n",
              "      <th>3</th>\n",
              "      <td>0.089878</td>\n",
              "      <td>-2.777883</td>\n",
              "      <td>-6.315279</td>\n",
              "      <td>10.872088</td>\n",
              "      <td>0.054131</td>\n",
              "      <td>3.863607</td>\n",
              "      <td>-5.127266</td>\n",
              "      <td>4.674919</td>\n",
              "      <td>2.315250</td>\n",
              "      <td>3.487482</td>\n",
              "      <td>7.572337</td>\n",
              "      <td>6.711543</td>\n",
              "      <td>-2.472755</td>\n",
              "      <td>6.071854</td>\n",
              "      <td>-8.120181</td>\n",
              "      <td>4.726856</td>\n",
              "      <td>7.098735</td>\n",
              "      <td>0.852519</td>\n",
              "      <td>2.958719</td>\n",
              "      <td>8.679304</td>\n",
              "      <td>-3.037238</td>\n",
              "      <td>-1.475192</td>\n",
              "      <td>-0.776509</td>\n",
              "      <td>4.719256</td>\n",
              "      <td>-11.387332</td>\n",
              "      <td>-7.853765</td>\n",
              "      <td>-7.406368</td>\n",
              "      <td>6.772154</td>\n",
              "      <td>-3.939882</td>\n",
              "      <td>2.404448</td>\n",
              "      <td>-5.555767</td>\n",
              "      <td>14.022238</td>\n",
              "    </tr>\n",
              "    <tr>\n",
              "      <th>4</th>\n",
              "      <td>-0.628979</td>\n",
              "      <td>-5.618153</td>\n",
              "      <td>0.211425</td>\n",
              "      <td>9.080674</td>\n",
              "      <td>-7.754356</td>\n",
              "      <td>-2.478280</td>\n",
              "      <td>-1.074501</td>\n",
              "      <td>-4.126352</td>\n",
              "      <td>-10.404390</td>\n",
              "      <td>-5.484654</td>\n",
              "      <td>8.853849</td>\n",
              "      <td>-4.687855</td>\n",
              "      <td>-9.477161</td>\n",
              "      <td>0.472042</td>\n",
              "      <td>3.276229</td>\n",
              "      <td>-2.864122</td>\n",
              "      <td>7.904986</td>\n",
              "      <td>-7.056542</td>\n",
              "      <td>10.689867</td>\n",
              "      <td>-0.728703</td>\n",
              "      <td>7.775956</td>\n",
              "      <td>1.398570</td>\n",
              "      <td>-6.860539</td>\n",
              "      <td>-9.318607</td>\n",
              "      <td>9.403887</td>\n",
              "      <td>8.721467</td>\n",
              "      <td>4.972809</td>\n",
              "      <td>0.058038</td>\n",
              "      <td>-3.073761</td>\n",
              "      <td>7.794832</td>\n",
              "      <td>-11.236306</td>\n",
              "      <td>40.974161</td>\n",
              "    </tr>\n",
              "    <tr>\n",
              "      <th>...</th>\n",
              "      <td>...</td>\n",
              "      <td>...</td>\n",
              "      <td>...</td>\n",
              "      <td>...</td>\n",
              "      <td>...</td>\n",
              "      <td>...</td>\n",
              "      <td>...</td>\n",
              "      <td>...</td>\n",
              "      <td>...</td>\n",
              "      <td>...</td>\n",
              "      <td>...</td>\n",
              "      <td>...</td>\n",
              "      <td>...</td>\n",
              "      <td>...</td>\n",
              "      <td>...</td>\n",
              "      <td>...</td>\n",
              "      <td>...</td>\n",
              "      <td>...</td>\n",
              "      <td>...</td>\n",
              "      <td>...</td>\n",
              "      <td>...</td>\n",
              "      <td>...</td>\n",
              "      <td>...</td>\n",
              "      <td>...</td>\n",
              "      <td>...</td>\n",
              "      <td>...</td>\n",
              "      <td>...</td>\n",
              "      <td>...</td>\n",
              "      <td>...</td>\n",
              "      <td>...</td>\n",
              "      <td>...</td>\n",
              "      <td>...</td>\n",
              "    </tr>\n",
              "    <tr>\n",
              "      <th>9995</th>\n",
              "      <td>2.199102</td>\n",
              "      <td>-0.084611</td>\n",
              "      <td>-9.190400</td>\n",
              "      <td>4.760778</td>\n",
              "      <td>8.053412</td>\n",
              "      <td>7.844466</td>\n",
              "      <td>7.094928</td>\n",
              "      <td>4.142584</td>\n",
              "      <td>-9.773201</td>\n",
              "      <td>7.500047</td>\n",
              "      <td>6.429884</td>\n",
              "      <td>-0.491096</td>\n",
              "      <td>7.745518</td>\n",
              "      <td>8.591163</td>\n",
              "      <td>-5.879933</td>\n",
              "      <td>-6.851440</td>\n",
              "      <td>-1.124146</td>\n",
              "      <td>-3.659094</td>\n",
              "      <td>-2.930545</td>\n",
              "      <td>3.772390</td>\n",
              "      <td>-0.727309</td>\n",
              "      <td>-5.349916</td>\n",
              "      <td>2.966403</td>\n",
              "      <td>-3.034193</td>\n",
              "      <td>-9.081341</td>\n",
              "      <td>4.222648</td>\n",
              "      <td>8.852117</td>\n",
              "      <td>-10.259300</td>\n",
              "      <td>-3.977083</td>\n",
              "      <td>-6.633752</td>\n",
              "      <td>-0.169221</td>\n",
              "      <td>-31.168761</td>\n",
              "    </tr>\n",
              "    <tr>\n",
              "      <th>9996</th>\n",
              "      <td>-5.392829</td>\n",
              "      <td>-9.394138</td>\n",
              "      <td>-5.537593</td>\n",
              "      <td>-8.153520</td>\n",
              "      <td>-5.236436</td>\n",
              "      <td>2.035193</td>\n",
              "      <td>-9.913706</td>\n",
              "      <td>-7.947207</td>\n",
              "      <td>2.386956</td>\n",
              "      <td>0.985030</td>\n",
              "      <td>-4.427184</td>\n",
              "      <td>-1.682243</td>\n",
              "      <td>1.408151</td>\n",
              "      <td>-2.682320</td>\n",
              "      <td>-9.122236</td>\n",
              "      <td>8.808176</td>\n",
              "      <td>7.982695</td>\n",
              "      <td>6.772614</td>\n",
              "      <td>-10.877059</td>\n",
              "      <td>-7.632752</td>\n",
              "      <td>-8.536176</td>\n",
              "      <td>1.471711</td>\n",
              "      <td>3.379473</td>\n",
              "      <td>5.962480</td>\n",
              "      <td>3.459546</td>\n",
              "      <td>4.933643</td>\n",
              "      <td>-6.565265</td>\n",
              "      <td>-0.033915</td>\n",
              "      <td>3.943987</td>\n",
              "      <td>-5.777516</td>\n",
              "      <td>-18.788276</td>\n",
              "      <td>-26.887582</td>\n",
              "    </tr>\n",
              "    <tr>\n",
              "      <th>9997</th>\n",
              "      <td>5.939191</td>\n",
              "      <td>7.816525</td>\n",
              "      <td>-10.299744</td>\n",
              "      <td>-7.247408</td>\n",
              "      <td>7.905203</td>\n",
              "      <td>0.569370</td>\n",
              "      <td>8.087939</td>\n",
              "      <td>1.321670</td>\n",
              "      <td>6.182306</td>\n",
              "      <td>-1.985572</td>\n",
              "      <td>6.626791</td>\n",
              "      <td>-1.066578</td>\n",
              "      <td>-0.951390</td>\n",
              "      <td>-1.233851</td>\n",
              "      <td>-1.206060</td>\n",
              "      <td>8.095168</td>\n",
              "      <td>-2.334292</td>\n",
              "      <td>-2.762005</td>\n",
              "      <td>-2.088553</td>\n",
              "      <td>-0.655406</td>\n",
              "      <td>3.410459</td>\n",
              "      <td>-6.253089</td>\n",
              "      <td>3.113665</td>\n",
              "      <td>-2.707688</td>\n",
              "      <td>7.452593</td>\n",
              "      <td>-6.606251</td>\n",
              "      <td>6.249281</td>\n",
              "      <td>-2.613518</td>\n",
              "      <td>-8.335171</td>\n",
              "      <td>6.609438</td>\n",
              "      <td>15.633051</td>\n",
              "      <td>35.047190</td>\n",
              "    </tr>\n",
              "    <tr>\n",
              "      <th>9998</th>\n",
              "      <td>0.197766</td>\n",
              "      <td>3.540739</td>\n",
              "      <td>1.923010</td>\n",
              "      <td>5.114985</td>\n",
              "      <td>-4.794595</td>\n",
              "      <td>-9.145112</td>\n",
              "      <td>7.873624</td>\n",
              "      <td>5.396238</td>\n",
              "      <td>0.083500</td>\n",
              "      <td>7.798964</td>\n",
              "      <td>-2.370559</td>\n",
              "      <td>7.045790</td>\n",
              "      <td>4.071558</td>\n",
              "      <td>0.076799</td>\n",
              "      <td>9.622270</td>\n",
              "      <td>8.849059</td>\n",
              "      <td>6.668561</td>\n",
              "      <td>-2.199493</td>\n",
              "      <td>-10.995283</td>\n",
              "      <td>6.953046</td>\n",
              "      <td>-9.548324</td>\n",
              "      <td>-2.923515</td>\n",
              "      <td>-1.386035</td>\n",
              "      <td>9.638675</td>\n",
              "      <td>-5.114965</td>\n",
              "      <td>-5.628264</td>\n",
              "      <td>-2.888274</td>\n",
              "      <td>-9.297920</td>\n",
              "      <td>1.002521</td>\n",
              "      <td>-6.314678</td>\n",
              "      <td>7.081477</td>\n",
              "      <td>-29.573389</td>\n",
              "    </tr>\n",
              "    <tr>\n",
              "      <th>9999</th>\n",
              "      <td>-0.755151</td>\n",
              "      <td>9.153032</td>\n",
              "      <td>5.954242</td>\n",
              "      <td>1.071082</td>\n",
              "      <td>-4.432417</td>\n",
              "      <td>8.118468</td>\n",
              "      <td>9.016525</td>\n",
              "      <td>-2.891910</td>\n",
              "      <td>2.974584</td>\n",
              "      <td>7.604312</td>\n",
              "      <td>2.888814</td>\n",
              "      <td>-4.211436</td>\n",
              "      <td>-9.132453</td>\n",
              "      <td>4.896821</td>\n",
              "      <td>-4.341882</td>\n",
              "      <td>9.683613</td>\n",
              "      <td>-6.332102</td>\n",
              "      <td>4.974411</td>\n",
              "      <td>6.751639</td>\n",
              "      <td>-2.936038</td>\n",
              "      <td>-11.227242</td>\n",
              "      <td>3.247346</td>\n",
              "      <td>-5.883483</td>\n",
              "      <td>-6.885604</td>\n",
              "      <td>0.262466</td>\n",
              "      <td>3.932973</td>\n",
              "      <td>-1.262408</td>\n",
              "      <td>1.919351</td>\n",
              "      <td>-7.870519</td>\n",
              "      <td>0.209666</td>\n",
              "      <td>18.306064</td>\n",
              "      <td>3.048330</td>\n",
              "    </tr>\n",
              "  </tbody>\n",
              "</table>\n",
              "<p>10000 rows × 32 columns</p>\n",
              "</div>"
            ],
            "text/plain": [
              "            0         1          2   ...        29         30         31\n",
              "0     5.416075 -2.888296  -9.690855  ...  5.476468  -5.776593  29.382341\n",
              "1     5.638002  7.434348   6.938144  ...  3.633443  14.868695  20.167216\n",
              "2    -7.220028 -0.614491  -7.107496  ...  2.734674  -1.228981  15.673372\n",
              "3     0.089878 -2.777883  -6.315279  ...  2.404448  -5.555767  14.022238\n",
              "4    -0.628979 -5.618153   0.211425  ...  7.794832 -11.236306  40.974161\n",
              "...        ...       ...        ...  ...       ...        ...        ...\n",
              "9995  2.199102 -0.084611  -9.190400  ... -6.633752  -0.169221 -31.168761\n",
              "9996 -5.392829 -9.394138  -5.537593  ... -5.777516 -18.788276 -26.887582\n",
              "9997  5.939191  7.816525 -10.299744  ...  6.609438  15.633051  35.047190\n",
              "9998  0.197766  3.540739   1.923010  ... -6.314678   7.081477 -29.573389\n",
              "9999 -0.755151  9.153032   5.954242  ...  0.209666  18.306064   3.048330\n",
              "\n",
              "[10000 rows x 32 columns]"
            ]
          },
          "metadata": {
            "tags": []
          },
          "execution_count": 5
        }
      ]
    },
    {
      "cell_type": "markdown",
      "metadata": {
        "id": "dwMBRE4hjGfl"
      },
      "source": [
        "2 ทำ clustering แล้วทำ visualize ข้อมูลแบบ 2 มิติ"
      ]
    },
    {
      "cell_type": "markdown",
      "metadata": {
        "id": "0Hpm6T0MqsQE"
      },
      "source": [
        "เราจะจัดกลุ่มข้อมูล โดยใช้ Kmean\n"
      ]
    },
    {
      "cell_type": "markdown",
      "metadata": {
        "id": "-Vd4L1CYrUDN"
      },
      "source": [
        "###Import"
      ]
    },
    {
      "cell_type": "code",
      "metadata": {
        "id": "Xpl8ThJro_jx"
      },
      "source": [
        "from sklearn.cluster import KMeans\n"
      ],
      "execution_count": 59,
      "outputs": []
    },
    {
      "cell_type": "markdown",
      "metadata": {
        "id": "4v0ijdk-xVH2"
      },
      "source": [
        "## Define"
      ]
    },
    {
      "cell_type": "code",
      "metadata": {
        "id": "P9WA62EExaPp"
      },
      "source": [
        "KMeans = KMeans(random_state=2021)"
      ],
      "execution_count": 60,
      "outputs": []
    },
    {
      "cell_type": "markdown",
      "metadata": {
        "id": "Egs34BT6xO4d"
      },
      "source": [
        "## Fit-Transform"
      ]
    },
    {
      "cell_type": "markdown",
      "metadata": {
        "id": "ew66OPtByIEe"
      },
      "source": [
        "ตำนวณหาจุด cluter centers ของข้อมูล ด้วยวิธี K-means clustering"
      ]
    },
    {
      "cell_type": "code",
      "metadata": {
        "id": "4nvjlBEYqpiJ",
        "outputId": "36047346-ca8e-40a0-db6f-01446ec92ad8",
        "colab": {
          "base_uri": "https://localhost:8080/"
        }
      },
      "source": [
        "KMeans.fit(Data)"
      ],
      "execution_count": 61,
      "outputs": [
        {
          "output_type": "execute_result",
          "data": {
            "text/plain": [
              "KMeans(algorithm='auto', copy_x=True, init='k-means++', max_iter=300,\n",
              "       n_clusters=8, n_init=10, n_jobs=None, precompute_distances='auto',\n",
              "       random_state=2021, tol=0.0001, verbose=0)"
            ]
          },
          "metadata": {
            "tags": []
          },
          "execution_count": 61
        }
      ]
    },
    {
      "cell_type": "markdown",
      "metadata": {
        "id": "Q9vZ9MobyVR2"
      },
      "source": [
        "เเสดงจุด cluster centers ที่คำนวณออกมาได้"
      ]
    },
    {
      "cell_type": "code",
      "metadata": {
        "id": "213_XacKxtiJ",
        "outputId": "da12f714-40ac-44f7-b94e-d5eb17893624",
        "colab": {
          "base_uri": "https://localhost:8080/"
        }
      },
      "source": [
        "KMeans.cluster_centers_"
      ],
      "execution_count": 62,
      "outputs": [
        {
          "output_type": "execute_result",
          "data": {
            "text/plain": [
              "array([[ 2.04948037e+00, -5.36626039e+00,  1.59390940e+00,\n",
              "         4.37330101e+00,  5.24767336e+00,  4.48676485e+00,\n",
              "        -2.07663071e+00,  1.53609306e+00, -5.39161402e+00,\n",
              "         2.45817566e+00,  1.96856198e+00,  1.76684709e+00,\n",
              "         4.81820989e+00,  6.36429678e+00, -3.69059474e+00,\n",
              "        -2.66069648e+00, -9.23612154e-01, -8.30102759e-01,\n",
              "        -2.30872557e+00,  4.78759497e-01,  2.21417817e+00,\n",
              "        -3.77883822e+00, -8.95031998e-01, -4.12458881e+00,\n",
              "        -2.10337970e+00,  7.80393672e-01,  2.11306802e-01,\n",
              "        -3.44437319e+00, -4.59474477e+00, -7.16531182e+00,\n",
              "        -1.07325208e+01, -3.38265591e+01],\n",
              "       [-5.33484995e-01, -2.88765065e+00, -5.01915022e+00,\n",
              "         6.15975190e+00,  2.57038981e+00, -2.03417133e+00,\n",
              "         6.80864859e-01,  2.62630872e+00,  1.43222473e+00,\n",
              "        -2.05219459e+00, -1.14617066e+00, -3.58185011e-02,\n",
              "        -9.04997050e-01, -1.62683529e+00, -4.09579501e+00,\n",
              "        -3.65655555e+00,  2.00823244e+00, -2.54598324e+00,\n",
              "         4.75273913e+00, -4.51623899e+00,  4.87148856e+00,\n",
              "        -3.49457648e+00, -5.33007617e+00, -3.26115162e+00,\n",
              "         5.90174716e+00,  8.58360398e-01,  8.42636647e-01,\n",
              "        -2.54846210e+00,  6.36355320e+00,  4.55184323e+00,\n",
              "        -5.77530130e+00,  2.47592161e+01],\n",
              "       [ 5.03525151e+00,  9.28483198e+00,  6.51022726e+00,\n",
              "        -5.66702088e+00, -5.18404140e+00, -3.83856878e+00,\n",
              "         9.50376482e+00,  2.75147789e+00,  8.13907652e+00,\n",
              "        -9.60402338e+00,  5.43274575e+00, -9.87923527e+00,\n",
              "        -9.18831053e+00, -9.82122272e+00, -5.95024829e+00,\n",
              "        -3.41616941e+00,  9.20746051e+00,  8.18732379e+00,\n",
              "         1.75010918e+00,  6.17106338e+00, -9.41964198e+00,\n",
              "         5.08920263e+00, -8.32332608e+00, -6.42069628e+00,\n",
              "         8.53621145e+00, -4.93715188e+00,  5.99458540e+00,\n",
              "         5.32702548e-01,  4.00633600e+00,  3.80084984e+00,\n",
              "         1.85696640e+01,  2.10042492e+01],\n",
              "       [ 1.62035687e+00, -2.82351941e+00, -6.18658143e-01,\n",
              "         7.74319418e-01, -1.30749383e+00,  4.47635543e+00,\n",
              "         7.12374605e+00, -1.02540065e+00, -1.93862905e+00,\n",
              "        -3.09708781e+00,  1.00523182e+00, -1.58736993e-01,\n",
              "         4.70188460e+00,  3.13551790e+00,  7.58530961e+00,\n",
              "         3.12983030e+00, -2.68957915e+00,  7.36851546e+00,\n",
              "         4.24644092e+00, -2.39031935e+00, -3.02495023e+00,\n",
              "         1.16955457e+00,  6.69222501e+00,  4.10691007e+00,\n",
              "         2.42550356e+00, -2.19336508e+00, -4.03326928e+00,\n",
              "        -4.41090112e-01, -2.44632422e+00,  6.84547648e+00,\n",
              "        -5.64703882e+00,  3.62273824e+01],\n",
              "       [-1.44996132e+00,  6.86765564e+00,  5.71766088e+00,\n",
              "         5.59688355e+00, -3.21966271e+00,  2.46742046e+00,\n",
              "         3.97709268e+00, -1.56567009e+00,  9.85970369e-01,\n",
              "         2.05494059e+00, -2.82835976e+00,  3.15760510e-01,\n",
              "        -1.13009284e+00,  3.34701440e+00,  1.52310975e+00,\n",
              "        -2.77431825e+00, -4.14451537e+00,  2.38384819e+00,\n",
              "         1.94562659e+00, -1.78819981e+00, -1.75332917e+00,\n",
              "         2.10519257e+00, -2.35961700e+00, -6.41269088e+00,\n",
              "         1.65698283e+00,  1.32519842e+00,  1.22849491e+00,\n",
              "         7.86704035e-02, -2.82528548e-01, -4.36238758e-01,\n",
              "         1.37353113e+01, -1.81193789e-01],\n",
              "       [ 1.00022914e+00, -7.89906534e+00, -6.45498185e+00,\n",
              "        -5.45589005e+00, -5.42927196e-01,  1.33268847e-01,\n",
              "        -6.00862038e+00, -7.78650566e+00,  6.07115951e+00,\n",
              "         1.33708495e+00,  1.81085006e+00,  2.85101531e-01,\n",
              "        -2.99141693e+00,  3.15484310e+00, -3.70059723e+00,\n",
              "         3.17351446e-01,  4.55173142e+00,  8.84319863e-01,\n",
              "        -2.05566779e+00, -5.60695837e+00, -7.35526899e+00,\n",
              "         5.53857457e+00, -2.21454341e+00,  4.96278884e+00,\n",
              "         4.41913350e+00,  6.39102189e+00, -4.85157720e+00,\n",
              "        -4.37227043e+00,  8.99640381e-01, -4.42858424e+00,\n",
              "        -1.57981307e+01, -2.01429212e+01],\n",
              "       [-3.83387485e+00,  4.45139279e+00, -6.18836255e-01,\n",
              "         8.31004410e-01, -3.12021971e+00, -3.67267460e+00,\n",
              "         1.28113572e+00, -3.80745496e+00, -1.79673053e+00,\n",
              "         5.11595636e+00, -3.49628881e+00,  2.15296017e+00,\n",
              "         3.53478144e+00,  1.78575410e+00,  1.90374216e-01,\n",
              "         2.71074565e+00,  6.42975112e+00,  3.13752869e+00,\n",
              "        -5.49708120e+00,  4.84724358e+00, -1.68099977e-01,\n",
              "        -2.17161006e+00, -1.79260841e+00,  1.20504275e+00,\n",
              "        -1.50970831e+00, -3.81360611e+00, -3.55627289e+00,\n",
              "         3.90427373e-01,  5.11433438e+00, -8.39469344e+00,\n",
              "         8.90278558e+00, -3.99734672e+01],\n",
              "       [ 4.51376417e+00,  3.79696508e+00, -6.68140935e+00,\n",
              "        -3.22656369e+00,  9.84634924e-01,  3.30982041e+00,\n",
              "        -1.41284122e+00,  3.94209078e+00,  1.92718361e+00,\n",
              "        -1.16019449e+00,  2.42235594e+00,  1.82185936e+00,\n",
              "        -3.67735762e-01, -9.75492324e-01, -6.00439922e+00,\n",
              "         2.02018973e+00, -2.67819890e+00, -2.21955041e+00,\n",
              "         3.86777549e+00,  9.54120069e-01,  3.49086879e+00,\n",
              "        -1.30429808e+00,  9.20691606e-01,  3.24997001e+00,\n",
              "         7.25293858e-01, -5.76967190e+00, -1.09580872e+00,\n",
              "         2.56814357e+00, -5.10175364e+00,  2.74908538e+00,\n",
              "         7.59393015e+00,  1.57454269e+01]])"
            ]
          },
          "metadata": {
            "tags": []
          },
          "execution_count": 62
        }
      ]
    },
    {
      "cell_type": "markdown",
      "metadata": {
        "id": "5ddgGhbV21D4"
      },
      "source": [
        "ทดสอบการจัดกลุ่มของ Data"
      ]
    },
    {
      "cell_type": "code",
      "metadata": {
        "id": "gL5xMts0yfZJ",
        "outputId": "fc08b68a-cc11-45b1-8f3a-5eb139e7b1e0",
        "colab": {
          "base_uri": "https://localhost:8080/"
        }
      },
      "source": [
        "y = KMeans.predict(Data)\n",
        "y "
      ],
      "execution_count": 63,
      "outputs": [
        {
          "output_type": "execute_result",
          "data": {
            "text/plain": [
              "array([1, 2, 1, ..., 7, 6, 4], dtype=int32)"
            ]
          },
          "metadata": {
            "tags": []
          },
          "execution_count": 63
        }
      ]
    },
    {
      "cell_type": "code",
      "metadata": {
        "id": "6YNvkT5v3CVl"
      },
      "source": [
        "from sklearn.decomposition import PCA\n",
        "\n",
        "pca = PCA(n_components=2)\n",
        "\n",
        "new_pca = pca.fit_transform(Data_drop)"
      ],
      "execution_count": 64,
      "outputs": []
    },
    {
      "cell_type": "code",
      "metadata": {
        "id": "pBRuNIpqd-y0",
        "outputId": "d1fccf22-ddcf-40ea-9bf7-85219216e89e",
        "colab": {
          "base_uri": "https://localhost:8080/"
        }
      },
      "source": [
        "new_pca"
      ],
      "execution_count": 65,
      "outputs": [
        {
          "output_type": "execute_result",
          "data": {
            "text/plain": [
              "array([[ 3.12205343, -4.64338458],\n",
              "       [-7.19084264, -5.14378963],\n",
              "       [ 0.50808834,  7.92675808],\n",
              "       ...,\n",
              "       [-7.56475352, -5.45518172],\n",
              "       [-3.44545728,  0.39953572],\n",
              "       [-9.08142137,  1.20065677]])"
            ]
          },
          "metadata": {
            "tags": []
          },
          "execution_count": 65
        }
      ]
    },
    {
      "cell_type": "code",
      "metadata": {
        "id": "oDDLRnZoejM1"
      },
      "source": [
        "from matplotlib import  pyplot as plt"
      ],
      "execution_count": 66,
      "outputs": []
    },
    {
      "cell_type": "code",
      "metadata": {
        "id": "rOvIpNHAeGFE",
        "outputId": "ab909ca5-1f61-48d2-f1b3-981c61dbd577",
        "colab": {
          "base_uri": "https://localhost:8080/",
          "height": 281
        }
      },
      "source": [
        "plt.plot(new_pca[:50,0],new_pca[:50,1],'or')\n",
        "plt.plot(new_pca[50:100,0],new_pca[50:100,1],'og')\n",
        "plt.plot(new_pca[100:,0],new_pca[100:,1],'oy')"
      ],
      "execution_count": 67,
      "outputs": [
        {
          "output_type": "execute_result",
          "data": {
            "text/plain": [
              "[<matplotlib.lines.Line2D at 0x7f535bcabfd0>]"
            ]
          },
          "metadata": {
            "tags": []
          },
          "execution_count": 67
        },
        {
          "output_type": "display_data",
          "data": {
            "image/png": "[encoded data removed]",
            "text/plain": [
              "<Figure size 432x288 with 1 Axes>"
            ]
          },
          "metadata": {
            "tags": [],
            "needs_background": "light"
          }
        }
      ]
    },
    {
      "cell_type": "code",
      "metadata": {
        "id": "vhZC5Yi8eqAU",
        "outputId": "02f0e2bf-466b-4fa7-8538-35ed331795fc",
        "colab": {
          "base_uri": "https://localhost:8080/",
          "height": 214
        }
      },
      "source": [
        ""
      ],
      "execution_count": 69,
      "outputs": [
        {
          "output_type": "error",
          "ename": "TypeError",
          "evalue": "ignored",
          "traceback": [
            "\u001b[0;31m---------------------------------------------------------------------------\u001b[0m",
            "\u001b[0;31mTypeError\u001b[0m                                 Traceback (most recent call last)",
            "\u001b[0;32m<ipython-input-69-dd0274ed8d48>\u001b[0m in \u001b[0;36m<module>\u001b[0;34m()\u001b[0m\n\u001b[0;32m----> 1\u001b[0;31m \u001b[0mKMeans\u001b[0m \u001b[0;34m=\u001b[0m \u001b[0mKMeans\u001b[0m\u001b[0;34m(\u001b[0m \u001b[0mrandom_state\u001b[0m\u001b[0;34m=\u001b[0m\u001b[0;36m2021\u001b[0m\u001b[0;34m)\u001b[0m\u001b[0;34m\u001b[0m\u001b[0;34m\u001b[0m\u001b[0m\n\u001b[0m\u001b[1;32m      2\u001b[0m \u001b[0mKMeans\u001b[0m\u001b[0;34m.\u001b[0m\u001b[0mfit\u001b[0m\u001b[0;34m(\u001b[0m\u001b[0mData\u001b[0m\u001b[0;34m)\u001b[0m\u001b[0;34m\u001b[0m\u001b[0;34m\u001b[0m\u001b[0m\n\u001b[1;32m      3\u001b[0m \u001b[0my\u001b[0m \u001b[0;34m=\u001b[0m \u001b[0mKMeans\u001b[0m\u001b[0;34m.\u001b[0m\u001b[0mpredict\u001b[0m\u001b[0;34m(\u001b[0m\u001b[0mData\u001b[0m\u001b[0;34m)\u001b[0m\u001b[0;34m\u001b[0m\u001b[0;34m\u001b[0m\u001b[0m\n\u001b[1;32m      4\u001b[0m \u001b[0mplt\u001b[0m\u001b[0;34m.\u001b[0m\u001b[0mscatter\u001b[0m\u001b[0;34m(\u001b[0m\u001b[0mnew_pca\u001b[0m\u001b[0;34m[\u001b[0m\u001b[0;34m:\u001b[0m\u001b[0;34m,\u001b[0m\u001b[0;36m0\u001b[0m\u001b[0;34m]\u001b[0m\u001b[0;34m,\u001b[0m\u001b[0mnew_pca\u001b[0m\u001b[0;34m[\u001b[0m\u001b[0;34m:\u001b[0m\u001b[0;34m,\u001b[0m\u001b[0;36m1\u001b[0m\u001b[0;34m]\u001b[0m\u001b[0;34m,\u001b[0m\u001b[0mc\u001b[0m\u001b[0;34m=\u001b[0m\u001b[0my\u001b[0m\u001b[0;34m)\u001b[0m\u001b[0;34m\u001b[0m\u001b[0;34m\u001b[0m\u001b[0m\n",
            "\u001b[0;31mTypeError\u001b[0m: 'KMeans' object is not callable"
          ]
        }
      ]
    },
    {
      "cell_type": "code",
      "metadata": {
        "id": "0NNi4CNRh0TE"
      },
      "source": [
        ""
      ],
      "execution_count": null,
      "outputs": []
    }
  ]
}
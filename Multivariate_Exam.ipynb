{
  "nbformat": 4,
  "nbformat_minor": 0,
  "metadata": {
    "colab": {
      "name": "Multivariate Exam.ipynb",
      "provenance": [],
      "include_colab_link": true
    },
    "kernelspec": {
      "name": "python3",
      "display_name": "Python 3"
    },
    "language_info": {
      "name": "python"
    }
  },
  "cells": [
    {
      "cell_type": "markdown",
      "metadata": {
        "id": "view-in-github",
        "colab_type": "text"
      },
      "source": [
        "<a href=\"https://colab.research.google.com/github/kittikhun62/Multivariate/blob/main/Multivariate_Exam.ipynb\" target=\"_parent\"><img src=\"https://colab.research.google.com/assets/colab-badge.svg\" alt=\"Open In Colab\"/></a>"
      ]
    },
    {
      "cell_type": "markdown",
      "metadata": {
        "id": "JZxiNADfaDtv"
      },
      "source": [
        "ให้นักศึกษาทำข้อสอบใน Colab Notebook นี้โดยกรอกข้อมูลของตัวเองใน cell ที่ 2 แล้วรัน cell ที่ 1 - 5 และเริ่มทำข้อสอบใน cell ที่ 6 เป็นต้นไป\n",
        "\n",
        "โดยโจทย์คือ\n",
        "1. ข้อมูลโจทย์ อยู่ใน ตัวแปร ```Data```\n",
        "2. ทำ clustering แล้วทำ visualize ข้อมูลแบบ 2 มิติ\n",
        "3. ลด Dimension ของข้อมูลเหลือ 2 มิติ แล้วทำ clustering แล้ว visualize ข้อมูลแบบ 2 มิติ\n",
        "4. เปรียบเทียบความแตกต่างของผลข้อ 2. กับ ข้อ 3.\n",
        "5. เขียน comments อธิบายทุกขั้นตอน\n",
        "6. อัด video อธิบาย code ทุกๆขั้นตอนรวมถึงผลแล้วอัพลง youtube ในรูปแบบ unlist \n",
        "7. commit โดยใช้ชื่อ commit เป็น link youtube ที่อธิบาย code ในข้อ 6.\n",
        "\n",
        "กำหนดส่งวันที่ 2 พฤษภาคม 2564 (โดยให้มากรอกวันที่ commit ครั้งสุดท้ายใน sheet: https://docs.google.com/spreadsheets/d/1_qJwLDJVtOW1HxBcf_FHVc6UT4J_SOonuR6o3EEnVzw/edit?usp=sharing ช่อง Final)"
      ]
    },
    {
      "cell_type": "code",
      "metadata": {
        "id": "cWl2x1bPGtQl"
      },
      "source": [
        "from sklearn.datasets import make_blobs\n",
        "import random,math\n",
        "import numpy as np\n",
        "import pandas"
      ],
      "execution_count": 1,
      "outputs": []
    },
    {
      "cell_type": "code",
      "metadata": {
        "id": "gZfzuiHsZksh"
      },
      "source": [
        "Name = 'กิตติคุณ เกียรติศักดิ์ศิริ'\n",
        "ID = '6230207600'"
      ],
      "execution_count": 2,
      "outputs": []
    },
    {
      "cell_type": "code",
      "metadata": {
        "id": "8hFQXkF5aAiA"
      },
      "source": [
        "def DataGenerator(name,id):\n",
        "    random.seed(int(id[3:6]))\n",
        "    numfeat = random.randint(20,30)\n",
        "    ct = random.randint(len(name)-6,len(name))\n",
        "    \n",
        "    X, y = make_blobs(n_samples=10000, centers=ct, n_features=numfeat , random_state=int(id[3:6]))\n",
        "\n",
        "    print(f'{id[3:6]}:{numfeat}:{ct}')\n",
        "    X_t = (X[:,1]*2)+int(id[3])\n",
        "    X_t2 = (X[:,-1]*5)+int(id[4])\n",
        "\n",
        "    DT = np.append(X,X_t.reshape([10000,1]),axis=1)\n",
        "    DT = np.append(DT,X_t2.reshape([10000,1]),axis=1)\n",
        "    \n",
        "    return pandas.DataFrame(DT)"
      ],
      "execution_count": 3,
      "outputs": []
    },
    {
      "cell_type": "code",
      "metadata": {
        "colab": {
          "base_uri": "https://localhost:8080/"
        },
        "id": "hbXlxumSBX9i",
        "outputId": "c1ad4ade-0524-47d6-b838-7aa2adee1c39"
      },
      "source": [
        "Data = DataGenerator(Name,ID)"
      ],
      "execution_count": 4,
      "outputs": [
        {
          "output_type": "stream",
          "text": [
            "020:30:26\n"
          ],
          "name": "stdout"
        }
      ]
    },
    {
      "cell_type": "code",
      "metadata": {
        "colab": {
          "base_uri": "https://localhost:8080/",
          "height": 425
        },
        "id": "pQcCySXvBdN-",
        "outputId": "54d1df6a-5ce4-4b36-f4ba-8f1a35ef1b89"
      },
      "source": [
        "Data"
      ],
      "execution_count": 5,
      "outputs": [
        {
          "output_type": "execute_result",
          "data": {
            "text/html": [
              "<div>\n",
              "<style scoped>\n",
              "    .dataframe tbody tr th:only-of-type {\n",
              "        vertical-align: middle;\n",
              "    }\n",
              "\n",
              "    .dataframe tbody tr th {\n",
              "        vertical-align: top;\n",
              "    }\n",
              "\n",
              "    .dataframe thead th {\n",
              "        text-align: right;\n",
              "    }\n",
              "</style>\n",
              "<table border=\"1\" class=\"dataframe\">\n",
              "  <thead>\n",
              "    <tr style=\"text-align: right;\">\n",
              "      <th></th>\n",
              "      <th>0</th>\n",
              "      <th>1</th>\n",
              "      <th>2</th>\n",
              "      <th>3</th>\n",
              "      <th>4</th>\n",
              "      <th>5</th>\n",
              "      <th>6</th>\n",
              "      <th>7</th>\n",
              "      <th>8</th>\n",
              "      <th>9</th>\n",
              "      <th>10</th>\n",
              "      <th>11</th>\n",
              "      <th>12</th>\n",
              "      <th>13</th>\n",
              "      <th>14</th>\n",
              "      <th>15</th>\n",
              "      <th>16</th>\n",
              "      <th>17</th>\n",
              "      <th>18</th>\n",
              "      <th>19</th>\n",
              "      <th>20</th>\n",
              "      <th>21</th>\n",
              "      <th>22</th>\n",
              "      <th>23</th>\n",
              "      <th>24</th>\n",
              "      <th>25</th>\n",
              "      <th>26</th>\n",
              "      <th>27</th>\n",
              "      <th>28</th>\n",
              "      <th>29</th>\n",
              "      <th>30</th>\n",
              "      <th>31</th>\n",
              "    </tr>\n",
              "  </thead>\n",
              "  <tbody>\n",
              "    <tr>\n",
              "      <th>0</th>\n",
              "      <td>5.416075</td>\n",
              "      <td>-2.888296</td>\n",
              "      <td>-9.690855</td>\n",
              "      <td>1.151488</td>\n",
              "      <td>6.831063</td>\n",
              "      <td>9.293195</td>\n",
              "      <td>-8.909361</td>\n",
              "      <td>9.443475</td>\n",
              "      <td>1.118379</td>\n",
              "      <td>-2.828672</td>\n",
              "      <td>0.668603</td>\n",
              "      <td>9.301132</td>\n",
              "      <td>2.385790</td>\n",
              "      <td>5.322632</td>\n",
              "      <td>-8.452852</td>\n",
              "      <td>-7.019485</td>\n",
              "      <td>-0.807720</td>\n",
              "      <td>-1.064149</td>\n",
              "      <td>4.107312</td>\n",
              "      <td>-2.104505</td>\n",
              "      <td>9.330283</td>\n",
              "      <td>-3.486679</td>\n",
              "      <td>-9.123284</td>\n",
              "      <td>3.891806</td>\n",
              "      <td>5.492582</td>\n",
              "      <td>-4.017073</td>\n",
              "      <td>5.771277</td>\n",
              "      <td>-9.422485</td>\n",
              "      <td>7.588485</td>\n",
              "      <td>5.476468</td>\n",
              "      <td>-5.776593</td>\n",
              "      <td>29.382341</td>\n",
              "    </tr>\n",
              "    <tr>\n",
              "      <th>1</th>\n",
              "      <td>5.638002</td>\n",
              "      <td>7.434348</td>\n",
              "      <td>6.938144</td>\n",
              "      <td>-5.132548</td>\n",
              "      <td>-5.510815</td>\n",
              "      <td>-4.016085</td>\n",
              "      <td>9.337993</td>\n",
              "      <td>1.893596</td>\n",
              "      <td>6.388560</td>\n",
              "      <td>-10.237081</td>\n",
              "      <td>7.187227</td>\n",
              "      <td>-10.364249</td>\n",
              "      <td>-8.742190</td>\n",
              "      <td>-11.252525</td>\n",
              "      <td>-4.958954</td>\n",
              "      <td>-3.794558</td>\n",
              "      <td>7.448764</td>\n",
              "      <td>6.726902</td>\n",
              "      <td>3.591231</td>\n",
              "      <td>7.856392</td>\n",
              "      <td>-10.350801</td>\n",
              "      <td>4.573680</td>\n",
              "      <td>-8.220857</td>\n",
              "      <td>-5.916394</td>\n",
              "      <td>9.382741</td>\n",
              "      <td>-3.097172</td>\n",
              "      <td>3.572651</td>\n",
              "      <td>0.522263</td>\n",
              "      <td>3.232410</td>\n",
              "      <td>3.633443</td>\n",
              "      <td>14.868695</td>\n",
              "      <td>20.167216</td>\n",
              "    </tr>\n",
              "    <tr>\n",
              "      <th>2</th>\n",
              "      <td>-7.220028</td>\n",
              "      <td>-0.614491</td>\n",
              "      <td>-7.107496</td>\n",
              "      <td>7.942849</td>\n",
              "      <td>7.531426</td>\n",
              "      <td>-8.986606</td>\n",
              "      <td>7.645296</td>\n",
              "      <td>7.405065</td>\n",
              "      <td>8.909399</td>\n",
              "      <td>3.817976</td>\n",
              "      <td>-6.052293</td>\n",
              "      <td>-2.736666</td>\n",
              "      <td>9.038209</td>\n",
              "      <td>-4.603534</td>\n",
              "      <td>-7.230034</td>\n",
              "      <td>-6.978646</td>\n",
              "      <td>1.677081</td>\n",
              "      <td>-10.097775</td>\n",
              "      <td>3.324187</td>\n",
              "      <td>-7.788909</td>\n",
              "      <td>-2.046759</td>\n",
              "      <td>-7.999054</td>\n",
              "      <td>2.914059</td>\n",
              "      <td>-5.503368</td>\n",
              "      <td>2.667048</td>\n",
              "      <td>1.525047</td>\n",
              "      <td>-4.521728</td>\n",
              "      <td>-7.119456</td>\n",
              "      <td>10.828507</td>\n",
              "      <td>2.734674</td>\n",
              "      <td>-1.228981</td>\n",
              "      <td>15.673372</td>\n",
              "    </tr>\n",
              "    <tr>\n",
              "      <th>3</th>\n",
              "      <td>0.089878</td>\n",
              "      <td>-2.777883</td>\n",
              "      <td>-6.315279</td>\n",
              "      <td>10.872088</td>\n",
              "      <td>0.054131</td>\n",
              "      <td>3.863607</td>\n",
              "      <td>-5.127266</td>\n",
              "      <td>4.674919</td>\n",
              "      <td>2.315250</td>\n",
              "      <td>3.487482</td>\n",
              "      <td>7.572337</td>\n",
              "      <td>6.711543</td>\n",
              "      <td>-2.472755</td>\n",
              "      <td>6.071854</td>\n",
              "      <td>-8.120181</td>\n",
              "      <td>4.726856</td>\n",
              "      <td>7.098735</td>\n",
              "      <td>0.852519</td>\n",
              "      <td>2.958719</td>\n",
              "      <td>8.679304</td>\n",
              "      <td>-3.037238</td>\n",
              "      <td>-1.475192</td>\n",
              "      <td>-0.776509</td>\n",
              "      <td>4.719256</td>\n",
              "      <td>-11.387332</td>\n",
              "      <td>-7.853765</td>\n",
              "      <td>-7.406368</td>\n",
              "      <td>6.772154</td>\n",
              "      <td>-3.939882</td>\n",
              "      <td>2.404448</td>\n",
              "      <td>-5.555767</td>\n",
              "      <td>14.022238</td>\n",
              "    </tr>\n",
              "    <tr>\n",
              "      <th>4</th>\n",
              "      <td>-0.628979</td>\n",
              "      <td>-5.618153</td>\n",
              "      <td>0.211425</td>\n",
              "      <td>9.080674</td>\n",
              "      <td>-7.754356</td>\n",
              "      <td>-2.478280</td>\n",
              "      <td>-1.074501</td>\n",
              "      <td>-4.126352</td>\n",
              "      <td>-10.404390</td>\n",
              "      <td>-5.484654</td>\n",
              "      <td>8.853849</td>\n",
              "      <td>-4.687855</td>\n",
              "      <td>-9.477161</td>\n",
              "      <td>0.472042</td>\n",
              "      <td>3.276229</td>\n",
              "      <td>-2.864122</td>\n",
              "      <td>7.904986</td>\n",
              "      <td>-7.056542</td>\n",
              "      <td>10.689867</td>\n",
              "      <td>-0.728703</td>\n",
              "      <td>7.775956</td>\n",
              "      <td>1.398570</td>\n",
              "      <td>-6.860539</td>\n",
              "      <td>-9.318607</td>\n",
              "      <td>9.403887</td>\n",
              "      <td>8.721467</td>\n",
              "      <td>4.972809</td>\n",
              "      <td>0.058038</td>\n",
              "      <td>-3.073761</td>\n",
              "      <td>7.794832</td>\n",
              "      <td>-11.236306</td>\n",
              "      <td>40.974161</td>\n",
              "    </tr>\n",
              "    <tr>\n",
              "      <th>...</th>\n",
              "      <td>...</td>\n",
              "      <td>...</td>\n",
              "      <td>...</td>\n",
              "      <td>...</td>\n",
              "      <td>...</td>\n",
              "      <td>...</td>\n",
              "      <td>...</td>\n",
              "      <td>...</td>\n",
              "      <td>...</td>\n",
              "      <td>...</td>\n",
              "      <td>...</td>\n",
              "      <td>...</td>\n",
              "      <td>...</td>\n",
              "      <td>...</td>\n",
              "      <td>...</td>\n",
              "      <td>...</td>\n",
              "      <td>...</td>\n",
              "      <td>...</td>\n",
              "      <td>...</td>\n",
              "      <td>...</td>\n",
              "      <td>...</td>\n",
              "      <td>...</td>\n",
              "      <td>...</td>\n",
              "      <td>...</td>\n",
              "      <td>...</td>\n",
              "      <td>...</td>\n",
              "      <td>...</td>\n",
              "      <td>...</td>\n",
              "      <td>...</td>\n",
              "      <td>...</td>\n",
              "      <td>...</td>\n",
              "      <td>...</td>\n",
              "    </tr>\n",
              "    <tr>\n",
              "      <th>9995</th>\n",
              "      <td>2.199102</td>\n",
              "      <td>-0.084611</td>\n",
              "      <td>-9.190400</td>\n",
              "      <td>4.760778</td>\n",
              "      <td>8.053412</td>\n",
              "      <td>7.844466</td>\n",
              "      <td>7.094928</td>\n",
              "      <td>4.142584</td>\n",
              "      <td>-9.773201</td>\n",
              "      <td>7.500047</td>\n",
              "      <td>6.429884</td>\n",
              "      <td>-0.491096</td>\n",
              "      <td>7.745518</td>\n",
              "      <td>8.591163</td>\n",
              "      <td>-5.879933</td>\n",
              "      <td>-6.851440</td>\n",
              "      <td>-1.124146</td>\n",
              "      <td>-3.659094</td>\n",
              "      <td>-2.930545</td>\n",
              "      <td>3.772390</td>\n",
              "      <td>-0.727309</td>\n",
              "      <td>-5.349916</td>\n",
              "      <td>2.966403</td>\n",
              "      <td>-3.034193</td>\n",
              "      <td>-9.081341</td>\n",
              "      <td>4.222648</td>\n",
              "      <td>8.852117</td>\n",
              "      <td>-10.259300</td>\n",
              "      <td>-3.977083</td>\n",
              "      <td>-6.633752</td>\n",
              "      <td>-0.169221</td>\n",
              "      <td>-31.168761</td>\n",
              "    </tr>\n",
              "    <tr>\n",
              "      <th>9996</th>\n",
              "      <td>-5.392829</td>\n",
              "      <td>-9.394138</td>\n",
              "      <td>-5.537593</td>\n",
              "      <td>-8.153520</td>\n",
              "      <td>-5.236436</td>\n",
              "      <td>2.035193</td>\n",
              "      <td>-9.913706</td>\n",
              "      <td>-7.947207</td>\n",
              "      <td>2.386956</td>\n",
              "      <td>0.985030</td>\n",
              "      <td>-4.427184</td>\n",
              "      <td>-1.682243</td>\n",
              "      <td>1.408151</td>\n",
              "      <td>-2.682320</td>\n",
              "      <td>-9.122236</td>\n",
              "      <td>8.808176</td>\n",
              "      <td>7.982695</td>\n",
              "      <td>6.772614</td>\n",
              "      <td>-10.877059</td>\n",
              "      <td>-7.632752</td>\n",
              "      <td>-8.536176</td>\n",
              "      <td>1.471711</td>\n",
              "      <td>3.379473</td>\n",
              "      <td>5.962480</td>\n",
              "      <td>3.459546</td>\n",
              "      <td>4.933643</td>\n",
              "      <td>-6.565265</td>\n",
              "      <td>-0.033915</td>\n",
              "      <td>3.943987</td>\n",
              "      <td>-5.777516</td>\n",
              "      <td>-18.788276</td>\n",
              "      <td>-26.887582</td>\n",
              "    </tr>\n",
              "    <tr>\n",
              "      <th>9997</th>\n",
              "      <td>5.939191</td>\n",
              "      <td>7.816525</td>\n",
              "      <td>-10.299744</td>\n",
              "      <td>-7.247408</td>\n",
              "      <td>7.905203</td>\n",
              "      <td>0.569370</td>\n",
              "      <td>8.087939</td>\n",
              "      <td>1.321670</td>\n",
              "      <td>6.182306</td>\n",
              "      <td>-1.985572</td>\n",
              "      <td>6.626791</td>\n",
              "      <td>-1.066578</td>\n",
              "      <td>-0.951390</td>\n",
              "      <td>-1.233851</td>\n",
              "      <td>-1.206060</td>\n",
              "      <td>8.095168</td>\n",
              "      <td>-2.334292</td>\n",
              "      <td>-2.762005</td>\n",
              "      <td>-2.088553</td>\n",
              "      <td>-0.655406</td>\n",
              "      <td>3.410459</td>\n",
              "      <td>-6.253089</td>\n",
              "      <td>3.113665</td>\n",
              "      <td>-2.707688</td>\n",
              "      <td>7.452593</td>\n",
              "      <td>-6.606251</td>\n",
              "      <td>6.249281</td>\n",
              "      <td>-2.613518</td>\n",
              "      <td>-8.335171</td>\n",
              "      <td>6.609438</td>\n",
              "      <td>15.633051</td>\n",
              "      <td>35.047190</td>\n",
              "    </tr>\n",
              "    <tr>\n",
              "      <th>9998</th>\n",
              "      <td>0.197766</td>\n",
              "      <td>3.540739</td>\n",
              "      <td>1.923010</td>\n",
              "      <td>5.114985</td>\n",
              "      <td>-4.794595</td>\n",
              "      <td>-9.145112</td>\n",
              "      <td>7.873624</td>\n",
              "      <td>5.396238</td>\n",
              "      <td>0.083500</td>\n",
              "      <td>7.798964</td>\n",
              "      <td>-2.370559</td>\n",
              "      <td>7.045790</td>\n",
              "      <td>4.071558</td>\n",
              "      <td>0.076799</td>\n",
              "      <td>9.622270</td>\n",
              "      <td>8.849059</td>\n",
              "      <td>6.668561</td>\n",
              "      <td>-2.199493</td>\n",
              "      <td>-10.995283</td>\n",
              "      <td>6.953046</td>\n",
              "      <td>-9.548324</td>\n",
              "      <td>-2.923515</td>\n",
              "      <td>-1.386035</td>\n",
              "      <td>9.638675</td>\n",
              "      <td>-5.114965</td>\n",
              "      <td>-5.628264</td>\n",
              "      <td>-2.888274</td>\n",
              "      <td>-9.297920</td>\n",
              "      <td>1.002521</td>\n",
              "      <td>-6.314678</td>\n",
              "      <td>7.081477</td>\n",
              "      <td>-29.573389</td>\n",
              "    </tr>\n",
              "    <tr>\n",
              "      <th>9999</th>\n",
              "      <td>-0.755151</td>\n",
              "      <td>9.153032</td>\n",
              "      <td>5.954242</td>\n",
              "      <td>1.071082</td>\n",
              "      <td>-4.432417</td>\n",
              "      <td>8.118468</td>\n",
              "      <td>9.016525</td>\n",
              "      <td>-2.891910</td>\n",
              "      <td>2.974584</td>\n",
              "      <td>7.604312</td>\n",
              "      <td>2.888814</td>\n",
              "      <td>-4.211436</td>\n",
              "      <td>-9.132453</td>\n",
              "      <td>4.896821</td>\n",
              "      <td>-4.341882</td>\n",
              "      <td>9.683613</td>\n",
              "      <td>-6.332102</td>\n",
              "      <td>4.974411</td>\n",
              "      <td>6.751639</td>\n",
              "      <td>-2.936038</td>\n",
              "      <td>-11.227242</td>\n",
              "      <td>3.247346</td>\n",
              "      <td>-5.883483</td>\n",
              "      <td>-6.885604</td>\n",
              "      <td>0.262466</td>\n",
              "      <td>3.932973</td>\n",
              "      <td>-1.262408</td>\n",
              "      <td>1.919351</td>\n",
              "      <td>-7.870519</td>\n",
              "      <td>0.209666</td>\n",
              "      <td>18.306064</td>\n",
              "      <td>3.048330</td>\n",
              "    </tr>\n",
              "  </tbody>\n",
              "</table>\n",
              "<p>10000 rows × 32 columns</p>\n",
              "</div>"
            ],
            "text/plain": [
              "            0         1          2   ...        29         30         31\n",
              "0     5.416075 -2.888296  -9.690855  ...  5.476468  -5.776593  29.382341\n",
              "1     5.638002  7.434348   6.938144  ...  3.633443  14.868695  20.167216\n",
              "2    -7.220028 -0.614491  -7.107496  ...  2.734674  -1.228981  15.673372\n",
              "3     0.089878 -2.777883  -6.315279  ...  2.404448  -5.555767  14.022238\n",
              "4    -0.628979 -5.618153   0.211425  ...  7.794832 -11.236306  40.974161\n",
              "...        ...       ...        ...  ...       ...        ...        ...\n",
              "9995  2.199102 -0.084611  -9.190400  ... -6.633752  -0.169221 -31.168761\n",
              "9996 -5.392829 -9.394138  -5.537593  ... -5.777516 -18.788276 -26.887582\n",
              "9997  5.939191  7.816525 -10.299744  ...  6.609438  15.633051  35.047190\n",
              "9998  0.197766  3.540739   1.923010  ... -6.314678   7.081477 -29.573389\n",
              "9999 -0.755151  9.153032   5.954242  ...  0.209666  18.306064   3.048330\n",
              "\n",
              "[10000 rows x 32 columns]"
            ]
          },
          "metadata": {
            "tags": []
          },
          "execution_count": 5
        }
      ]
    },
    {
      "cell_type": "markdown",
      "metadata": {
        "id": "dwMBRE4hjGfl"
      },
      "source": [
        "2 ทำ clustering แล้วทำ visualize ข้อมูลแบบ 2 มิติ"
      ]
    },
    {
      "cell_type": "code",
      "metadata": {
        "id": "-Cv44n3k4s88",
        "outputId": "1a0cc444-b297-48e5-e7cd-ff3478bf2b2a",
        "colab": {
          "base_uri": "https://localhost:8080/"
        }
      },
      "source": [
        "Data.shape #มีทั้งหมด 32 dimension"
      ],
      "execution_count": 13,
      "outputs": [
        {
          "output_type": "execute_result",
          "data": {
            "text/plain": [
              "(10000, 32)"
            ]
          },
          "metadata": {
            "tags": []
          },
          "execution_count": 13
        }
      ]
    },
    {
      "cell_type": "markdown",
      "metadata": {
        "id": "0Hpm6T0MqsQE"
      },
      "source": [
        "เราจะจัดกลุ่มข้อมูล โดยใช้ Kmean\n"
      ]
    },
    {
      "cell_type": "markdown",
      "metadata": {
        "id": "-Vd4L1CYrUDN"
      },
      "source": [
        "###Import"
      ]
    },
    {
      "cell_type": "code",
      "metadata": {
        "id": "Xpl8ThJro_jx"
      },
      "source": [
        "from sklearn.cluster import KMeans\n",
        "# ทำการ improt ที่ต้องการใช้ในการทำ K-mean เพื่อนำมาจัดเรียงข้อมูล"
      ],
      "execution_count": 43,
      "outputs": []
    },
    {
      "cell_type": "markdown",
      "metadata": {
        "id": "4v0ijdk-xVH2"
      },
      "source": [
        "## Define"
      ]
    },
    {
      "cell_type": "code",
      "metadata": {
        "id": "P9WA62EExaPp"
      },
      "source": [
        "Kmeans = KMeans(n_clusters  = 3, random_state = 2021 ) #random_state =2021 เริ่มที่จุดเดียวกัน หากลุ่มที่มีลักษณะคล้ายๆหรือใกล้ๆกันหรือเหมือนกัน"
      ],
      "execution_count": 44,
      "outputs": []
    },
    {
      "cell_type": "markdown",
      "metadata": {
        "id": "Egs34BT6xO4d"
      },
      "source": [
        "## Fit-Transform"
      ]
    },
    {
      "cell_type": "markdown",
      "metadata": {
        "id": "ew66OPtByIEe"
      },
      "source": [
        "ตำนวณหาจุด cluter centers ของข้อมูล ด้วยวิธี K-means clustering"
      ]
    },
    {
      "cell_type": "code",
      "metadata": {
        "id": "4nvjlBEYqpiJ",
        "colab": {
          "base_uri": "https://localhost:8080/"
        },
        "outputId": "d31c2fae-2f7b-4082-b6d8-ffdf038c2856"
      },
      "source": [
        "Kmeans.fit(Data)"
      ],
      "execution_count": 46,
      "outputs": [
        {
          "output_type": "execute_result",
          "data": {
            "text/plain": [
              "KMeans(algorithm='auto', copy_x=True, init='k-means++', max_iter=300,\n",
              "       n_clusters=3, n_init=10, n_jobs=None, precompute_distances='auto',\n",
              "       random_state=2021, tol=0.0001, verbose=0)"
            ]
          },
          "metadata": {
            "tags": []
          },
          "execution_count": 46
        }
      ]
    },
    {
      "cell_type": "markdown",
      "metadata": {
        "id": "Q9vZ9MobyVR2"
      },
      "source": [
        "เเสดงจุด cluster centers ที่คำนวณออกมาได้"
      ]
    },
    {
      "cell_type": "code",
      "metadata": {
        "id": "213_XacKxtiJ",
        "colab": {
          "base_uri": "https://localhost:8080/"
        },
        "outputId": "c557b8c1-1595-4710-ff70-9c2e171df998"
      },
      "source": [
        "Kmeans.cluster_centers_"
      ],
      "execution_count": 47,
      "outputs": [
        {
          "output_type": "execute_result",
          "data": {
            "text/plain": [
              "array([[  3.56616948,   7.29934901,  -0.05641714,  -2.70644835,\n",
              "         -2.03604063,   2.27778211,   2.81840454,   1.66153144,\n",
              "          2.82054511,  -2.53218636,   0.52412591,  -1.34800505,\n",
              "         -1.74832641,  -1.88225648,  -2.94431141,  -0.671242  ,\n",
              "         -3.35335952,   1.26669222,   2.82445451,  -0.88473528,\n",
              "          0.61205662,   1.7061681 ,  -1.58112618,  -2.07657575,\n",
              "          4.26182921,  -2.57548182,   1.51226967,   1.71827346,\n",
              "         -2.8648198 ,   2.07261231,  14.59869801,  12.36306153],\n",
              "       [ -0.90881828,  -1.58023305,  -0.53836658,   1.49607419,\n",
              "          0.93891327,   0.13812489,  -0.94650958,  -2.43599269,\n",
              "         -1.75593746,   3.37756403,  -0.71043126,   1.61055876,\n",
              "          2.47041456,   3.57953537,  -1.78279952,  -0.39803901,\n",
              "          2.96977149,   0.84511829,  -3.05919496,   0.9921361 ,\n",
              "         -0.83086912,  -1.64495613,  -1.57117895,  -0.51652441,\n",
              "         -0.60231046,   0.13107626,  -1.86395114,  -2.5191393 ,\n",
              "          0.85215081,  -6.82598622,  -3.16046609, -32.12993108],\n",
              "       [  0.56608999,  -2.95853893,  -3.18236484,   4.12194618,\n",
              "          0.49277192,   1.57709193,   2.6862537 ,   1.23979072,\n",
              "          0.11873649,  -1.76181033,   0.87646653,   0.57285142,\n",
              "          1.47680076,   1.65618724,   0.54313026,   0.40332988,\n",
              "          0.4460287 ,   2.19618272,   4.29566225,  -1.99124736,\n",
              "          0.57807784,  -1.01352429,   0.59959629,   0.85757853,\n",
              "          2.62435365,  -1.54875017,  -2.25268177,  -0.64596636,\n",
              "          1.26742429,   5.33569063,  -5.91707786,  28.67845313]])"
            ]
          },
          "metadata": {
            "tags": []
          },
          "execution_count": 47
        }
      ]
    },
    {
      "cell_type": "markdown",
      "metadata": {
        "id": "5ddgGhbV21D4"
      },
      "source": [
        "ทดสอบการจัดกลุ่มของ Data"
      ]
    },
    {
      "cell_type": "code",
      "metadata": {
        "id": "gL5xMts0yfZJ",
        "colab": {
          "base_uri": "https://localhost:8080/"
        },
        "outputId": "3b49986d-28be-4586-905b-89bf0a8e7c5e"
      },
      "source": [
        "y = Kmeans.predict(Data)\n",
        "y "
      ],
      "execution_count": 48,
      "outputs": [
        {
          "output_type": "execute_result",
          "data": {
            "text/plain": [
              "array([2, 0, 2, ..., 0, 1, 0], dtype=int32)"
            ]
          },
          "metadata": {
            "tags": []
          },
          "execution_count": 48
        }
      ]
    },
    {
      "cell_type": "markdown",
      "metadata": {
        "id": "pHrNtZ6-5eoD"
      },
      "source": [
        "#ทำ PCA เพื่อลด DIMENTION ของข้อมูลให้เหลือ 2 DIMENTION ตามโจทย์"
      ]
    },
    {
      "cell_type": "code",
      "metadata": {
        "id": "6YNvkT5v3CVl"
      },
      "source": [
        "from sklearn.decomposition import PCA\n",
        "\n",
        "pca = PCA(n_components=2)\n",
        "\n",
        "new_pca = pca.fit_transform(Data)"
      ],
      "execution_count": 49,
      "outputs": []
    },
    {
      "cell_type": "code",
      "metadata": {
        "id": "pBRuNIpqd-y0",
        "colab": {
          "base_uri": "https://localhost:8080/"
        },
        "outputId": "f5b8dd81-5cc3-45e9-d10b-0bbd7a16c43c"
      },
      "source": [
        "new_pca"
      ],
      "execution_count": 50,
      "outputs": [
        {
          "output_type": "execute_result",
          "data": {
            "text/plain": [
              "array([[-29.81852292, -10.85602702],\n",
              "       [-24.07439045,  21.15618164],\n",
              "       [-15.39983467,  -2.50736116],\n",
              "       ...,\n",
              "       [-38.48569598,  13.84459754],\n",
              "       [ 31.86523936,  10.19575885],\n",
              "       [ -5.11489541,  19.05265885]])"
            ]
          },
          "metadata": {
            "tags": []
          },
          "execution_count": 50
        }
      ]
    },
    {
      "cell_type": "code",
      "metadata": {
        "id": "ZOQvsvFo5vwg"
      },
      "source": [
        "pca = PCA(n_components = 4)"
      ],
      "execution_count": 51,
      "outputs": []
    },
    {
      "cell_type": "code",
      "metadata": {
        "id": "oDDLRnZoejM1"
      },
      "source": [
        "from matplotlib import  pyplot as plt"
      ],
      "execution_count": 52,
      "outputs": []
    },
    {
      "cell_type": "code",
      "metadata": {
        "id": "rOvIpNHAeGFE",
        "colab": {
          "base_uri": "https://localhost:8080/",
          "height": 281
        },
        "outputId": "c39a8be1-131d-4b25-859e-172f1a5c1ac9"
      },
      "source": [
        "plt.plot(new_pca[:50,0],new_pca[:50,1],'or')\n",
        "plt.plot(new_pca[50:100,0],new_pca[50:100,1],'og')\n",
        "plt.plot(new_pca[100:,0],new_pca[100:,1],'oy')"
      ],
      "execution_count": 53,
      "outputs": [
        {
          "output_type": "execute_result",
          "data": {
            "text/plain": [
              "[<matplotlib.lines.Line2D at 0x7efdf8252590>]"
            ]
          },
          "metadata": {
            "tags": []
          },
          "execution_count": 53
        },
        {
          "output_type": "display_data",
          "data": {
            "image/png": "[encoded data removed]",
            "text/plain": [
              "<Figure size 432x288 with 1 Axes>"
            ]
          },
          "metadata": {
            "tags": [],
            "needs_background": "light"
          }
        }
      ]
    },
    {
      "cell_type": "code",
      "metadata": {
        "id": "vhZC5Yi8eqAU",
        "colab": {
          "base_uri": "https://localhost:8080/",
          "height": 281
        },
        "outputId": "bb1ca91d-7dba-4918-e35c-7ccbc6bf3b57"
      },
      "source": [
        "kmeans = KMeans(n_clusters=3, random_state=2021)\n",
        "kmeans.fit(Data)\n",
        "y = kmeans.predict(Data)\n",
        "plt.scatter(new_pca[:,0],new_pca[:,1],c=y)"
      ],
      "execution_count": 55,
      "outputs": [
        {
          "output_type": "execute_result",
          "data": {
            "text/plain": [
              "<matplotlib.collections.PathCollection at 0x7efdd3885950>"
            ]
          },
          "metadata": {
            "tags": []
          },
          "execution_count": 55
        },
        {
          "output_type": "display_data",
          "data": {
            "image/png": "[encoded data removed]",
            "text/plain": [
              "<Figure size 432x288 with 1 Axes>"
            ]
          },
          "metadata": {
            "tags": [],
            "needs_background": "light"
          }
        }
      ]
    },
    {
      "cell_type": "code",
      "metadata": {
        "id": "0NNi4CNRh0TE",
        "outputId": "6525290e-0a96-4827-ea90-93c91c549cd2",
        "colab": {
          "base_uri": "https://localhost:8080/",
          "height": 281
        }
      },
      "source": [
        "plt.scatter(new_pca[:,0],new_pca[:,1],c=y) # cluster center\n",
        "plt.plot(kmeans.cluster_centers_[:,0],kmeans.cluster_centers_[:,1],'or')"
      ],
      "execution_count": 56,
      "outputs": [
        {
          "output_type": "execute_result",
          "data": {
            "text/plain": [
              "[<matplotlib.lines.Line2D at 0x7efdd37ab190>]"
            ]
          },
          "metadata": {
            "tags": []
          },
          "execution_count": 56
        },
        {
          "output_type": "display_data",
          "data": {
            "image/png": "[encoded data removed]",
            "text/plain": [
              "<Figure size 432x288 with 1 Axes>"
            ]
          },
          "metadata": {
            "tags": [],
            "needs_background": "light"
          }
        }
      ]
    },
    {
      "cell_type": "markdown",
      "metadata": {
        "id": "3ogfzWLs6xeS"
      },
      "source": [
        "SSE"
      ]
    },
    {
      "cell_type": "code",
      "metadata": {
        "id": "keEWF5oQ6vrz",
        "outputId": "90aa7a8f-10db-41c2-8939-ef69049d8498",
        "colab": {
          "base_uri": "https://localhost:8080/"
        }
      },
      "source": [
        "kmeans.inertia_"
      ],
      "execution_count": 57,
      "outputs": [
        {
          "output_type": "execute_result",
          "data": {
            "text/plain": [
              "11348589.29093799"
            ]
          },
          "metadata": {
            "tags": []
          },
          "execution_count": 57
        }
      ]
    },
    {
      "cell_type": "code",
      "metadata": {
        "id": "xbflyBoh62hr"
      },
      "source": [
        "SSE = list()\n",
        "for k in [1,2,3,4,5,6,7,8]:\n",
        "    kmeans = KMeans(n_clusters=k, random_state=2021)\n",
        "    kmeans.fit(Data)\n",
        "    SSE.append(kmeans.inertia_)"
      ],
      "execution_count": 58,
      "outputs": []
    },
    {
      "cell_type": "code",
      "metadata": {
        "id": "CHkp4AXX64Zz",
        "outputId": "1bd56baf-7771-4f2a-8b80-4ceb0ebb2f8d",
        "colab": {
          "base_uri": "https://localhost:8080/"
        }
      },
      "source": [
        "SSE"
      ],
      "execution_count": 59,
      "outputs": [
        {
          "output_type": "execute_result",
          "data": {
            "text/plain": [
              "[20753125.440506306,\n",
              " 12770766.433320392,\n",
              " 11348589.29093799,\n",
              " 10319567.889919927,\n",
              " 9451413.005473346,\n",
              " 8807771.243344527,\n",
              " 8262246.262440401,\n",
              " 7730810.008455613]"
            ]
          },
          "metadata": {
            "tags": []
          },
          "execution_count": 59
        }
      ]
    },
    {
      "cell_type": "code",
      "metadata": {
        "id": "I4yA5oMJ6690",
        "outputId": "e8017be8-a1c8-402b-ddc8-36be755068ad",
        "colab": {
          "base_uri": "https://localhost:8080/",
          "height": 293
        }
      },
      "source": [
        "plt.plot([1,2,3,4,5,6,7,8],SSE,'o-b')"
      ],
      "execution_count": 60,
      "outputs": [
        {
          "output_type": "execute_result",
          "data": {
            "text/plain": [
              "[<matplotlib.lines.Line2D at 0x7efdd37dedd0>]"
            ]
          },
          "metadata": {
            "tags": []
          },
          "execution_count": 60
        },
        {
          "output_type": "display_data",
          "data": {
            "image/png": "[encoded data removed]",
            "text/plain": [
              "<Figure size 432x288 with 1 Axes>"
            ]
          },
          "metadata": {
            "tags": [],
            "needs_background": "light"
          }
        }
      ]
    },
    {
      "cell_type": "code",
      "metadata": {
        "id": "6graDNcG694k"
      },
      "source": [
        ""
      ],
      "execution_count": null,
      "outputs": []
    }
  ]
}
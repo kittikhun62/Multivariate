{
  "nbformat": 4,
  "nbformat_minor": 0,
  "metadata": {
    "colab": {
      "name": "Function_Numpy_Pandas.ipynb",
      "provenance": [],
      "authorship_tag": "ABX9TyPkAksjyjTWCjnXFwXECfuC",
      "include_colab_link": true
    },
    "kernelspec": {
      "name": "python3",
      "display_name": "Python 3"
    }
  },
  "cells": [
    {
      "cell_type": "markdown",
      "metadata": {
        "id": "view-in-github",
        "colab_type": "text"
      },
      "source": [
        "<a href=\"https://colab.research.google.com/github/kittikhun62/Multivariate/blob/main/Function_Numpy_Pandas.ipynb\" target=\"_parent\"><img src=\"https://colab.research.google.com/assets/colab-badge.svg\" alt=\"Open In Colab\"/></a>"
      ]
    },
    {
      "cell_type": "markdown",
      "metadata": {
        "id": "nLqbGg6HS18y"
      },
      "source": [
        "# Function"
      ]
    },
    {
      "cell_type": "code",
      "metadata": {
        "id": "nv89g1Q2S8Bn"
      },
      "source": [
        ""
      ],
      "execution_count": null,
      "outputs": []
    },
    {
      "cell_type": "code",
      "metadata": {
        "id": "0bVur7d1S9Eo"
      },
      "source": [
        ""
      ],
      "execution_count": null,
      "outputs": []
    },
    {
      "cell_type": "markdown",
      "metadata": {
        "id": "niQaax1eTmLL"
      },
      "source": [
        "function มีส่วนที่สำคัญทั้งหมด 4 ส่วน\r\n",
        "  1. บอก pythonว่าเราจะเขียนฟังก์ชั่น ชื่ออะไร def function_name(): (ขาดไม่ได้)\r\n",
        "  2. กำหนดตัวเเปรที่จะเป็น input input (ขาดได้)\r\n",
        "  3. ส่วนประมวลผล do_something with Input to get Output(ขาดได้)\r\n",
        "  4.ส่วน output return Output(ขาดไม่ได้)\r\n",
        "\r\n",
        "  เราใช้เว้นวรรค(indent)ฅ"
      ]
    },
    {
      "cell_type": "code",
      "metadata": {
        "id": "_a5yKEHiS9Cm"
      },
      "source": [
        "def print_name(name,surname,ID): #Input สามารถมีกี่ตัวก็ได้หรือไม่มีก็ได้\r\n",
        "   st = f'ชื่อ {name} นามสกุล {surname} ID {ID}'\r\n",
        "   return st"
      ],
      "execution_count": 1,
      "outputs": []
    },
    {
      "cell_type": "markdown",
      "metadata": {
        "id": "jAYsppTDWQa-"
      },
      "source": [
        "เรียกใช้ฟังก์ชัน"
      ]
    },
    {
      "cell_type": "code",
      "metadata": {
        "colab": {
          "base_uri": "https://localhost:8080/",
          "height": 35
        },
        "id": "f_kemR5-S87r",
        "outputId": "d13a77c2-1ffe-475e-ef6c-f237c620308e"
      },
      "source": [
        "print_name('กิตติมา', 'อุปสุข', '623021040-9')"
      ],
      "execution_count": 2,
      "outputs": [
        {
          "output_type": "execute_result",
          "data": {
            "application/vnd.google.colaboratory.intrinsic+json": {
              "type": "string"
            },
            "text/plain": [
              "'ชื่อ กิตติมา นามสกุล อุปสุข ID 623021040-9'"
            ]
          },
          "metadata": {
            "tags": []
          },
          "execution_count": 2
        }
      ]
    },
    {
      "cell_type": "code",
      "metadata": {
        "colab": {
          "base_uri": "https://localhost:8080/"
        },
        "id": "NyLic2H4S85N",
        "outputId": "33e2ac07-7c1e-40f0-e4f1-960d914f1d40"
      },
      "source": [
        "output_string = print_name('กิตติมา', 'อุปสุข', '623021040-9')\r\n",
        "print(output_string)"
      ],
      "execution_count": 3,
      "outputs": [
        {
          "output_type": "stream",
          "text": [
            "ชื่อ กิตติมา นามสกุล อุปสุข ID 623021040-9\n"
          ],
          "name": "stdout"
        }
      ]
    },
    {
      "cell_type": "markdown",
      "metadata": {
        "id": "NkXSCfD-S8oc"
      },
      "source": [
        "ฟังก์ชั่นไม่จำเป็นต้องมี output"
      ]
    },
    {
      "cell_type": "code",
      "metadata": {
        "id": "Oz91pAUmSV0K"
      },
      "source": [
        "def print_name2(surname,ID,name):\r\n",
        "  st = f'ชื่อ {name} นามสกุล {surname} ID {ID}'\r\n",
        "  print(st)"
      ],
      "execution_count": 4,
      "outputs": []
    },
    {
      "cell_type": "code",
      "metadata": {
        "colab": {
          "base_uri": "https://localhost:8080/"
        },
        "id": "iCajYHqAXr6i",
        "outputId": "bf9bea53-2b73-4665-bb74-53b1730ab139"
      },
      "source": [
        "print_name2('กิตติมา', 'อุปสุข', '623021040-9')"
      ],
      "execution_count": 5,
      "outputs": [
        {
          "output_type": "stream",
          "text": [
            "ชื่อ 623021040-9 นามสกุล กิตติมา ID อุปสุข\n"
          ],
          "name": "stdout"
        }
      ]
    },
    {
      "cell_type": "code",
      "metadata": {
        "colab": {
          "base_uri": "https://localhost:8080/"
        },
        "id": "n27TbwtdYCa0",
        "outputId": "d8bb5af0-a769-4e62-d8e0-186cc744a4ba"
      },
      "source": [
        "op2 = print_name2('กิตติมา', 'อุปสุข', '623021040-9')"
      ],
      "execution_count": 6,
      "outputs": [
        {
          "output_type": "stream",
          "text": [
            "ชื่อ 623021040-9 นามสกุล กิตติมา ID อุปสุข\n"
          ],
          "name": "stdout"
        }
      ]
    },
    {
      "cell_type": "code",
      "metadata": {
        "colab": {
          "base_uri": "https://localhost:8080/"
        },
        "id": "oSo4NB09X_0G",
        "outputId": "ed0a9dbf-85e4-4ee5-8666-535bc7cd52ec"
      },
      "source": [
        "print(op2)"
      ],
      "execution_count": 7,
      "outputs": [
        {
          "output_type": "stream",
          "text": [
            "None\n"
          ],
          "name": "stdout"
        }
      ]
    },
    {
      "cell_type": "markdown",
      "metadata": {
        "id": "-VDKY40kY-SN"
      },
      "source": [
        "ฟังก์ชั่นไม่จำเป็นต้องมี input"
      ]
    },
    {
      "cell_type": "code",
      "metadata": {
        "id": "f3ZMUKkgYgTK"
      },
      "source": [
        "def Pi():\r\n",
        "    return 3.14159265359"
      ],
      "execution_count": 8,
      "outputs": []
    },
    {
      "cell_type": "code",
      "metadata": {
        "colab": {
          "base_uri": "https://localhost:8080/"
        },
        "id": "WmFYBXj9ZPHi",
        "outputId": "9d7e659e-4e9c-413e-881f-848b8bed4932"
      },
      "source": [
        "#คำนวณพื้นที่วงกลมที่มีขนาดเส้นผ่านศูนย์กลางเท่ากับ 3\r\n",
        "Pi()*(1.5**2)\r\n"
      ],
      "execution_count": 9,
      "outputs": [
        {
          "output_type": "execute_result",
          "data": {
            "text/plain": [
              "7.0685834705775"
            ]
          },
          "metadata": {
            "tags": []
          },
          "execution_count": 9
        }
      ]
    },
    {
      "cell_type": "code",
      "metadata": {
        "id": "7AnAkxx8ZhpD"
      },
      "source": [
        "def print_my_name():\r\n",
        "    print('กิตติคุณ เกียรติศักดิ์ศิริ ID6230207600')"
      ],
      "execution_count": 10,
      "outputs": []
    },
    {
      "cell_type": "code",
      "metadata": {
        "colab": {
          "base_uri": "https://localhost:8080/"
        },
        "id": "eGwPDBYQZz4i",
        "outputId": "2837addd-02c2-422d-ac21-f02cb2d0af88"
      },
      "source": [
        "print_my_name()"
      ],
      "execution_count": 11,
      "outputs": [
        {
          "output_type": "stream",
          "text": [
            "กิตติคุณ เกียรติศักดิ์ศิริ ID6230207600\n"
          ],
          "name": "stdout"
        }
      ]
    },
    {
      "cell_type": "markdown",
      "metadata": {
        "id": "lA1ahmbSaF8f"
      },
      "source": [
        "### input ของ funtion ใน python  มีสองเเบบ ที่จำเป็นต้องใส่ กับ input ที่ไม่จำเป็นต้องใส่  (มีค่า default) เราต้องเรียง input ที่จำเป็นต้องใ่ขึ้นก่อน"
      ]
    },
    {
      "cell_type": "code",
      "metadata": {
        "id": "9DYds0QqZ2g7"
      },
      "source": [
        "def print_2lines_default(name, surname, ID, grade='F'):\r\n",
        "    st = f'ชื่อ {name} นามสกุล {surname} รหัส {ID}'\r\n",
        "    print(st)\r\n",
        "    st2=f'เกรดวิชา  Multivariate >>> {grade}'\r\n",
        "    print(st2)"
      ],
      "execution_count": 12,
      "outputs": []
    },
    {
      "cell_type": "code",
      "metadata": {
        "colab": {
          "base_uri": "https://localhost:8080/"
        },
        "id": "_esS5QDNa2go",
        "outputId": "e4d0291e-131f-481e-9aa9-2f887ba7dba4"
      },
      "source": [
        "print_2lines_default('ภิญญาดา', 'เพ็ญสุข','623021052-2', 'A')"
      ],
      "execution_count": 13,
      "outputs": [
        {
          "output_type": "stream",
          "text": [
            "ชื่อ ภิญญาดา นามสกุล เพ็ญสุข รหัส 623021052-2\n",
            "เกรดวิชา  Multivariate >>> A\n"
          ],
          "name": "stdout"
        }
      ]
    },
    {
      "cell_type": "markdown",
      "metadata": {
        "id": "2j8Yf6xQcAhI"
      },
      "source": [
        "เราสามารถเรียกฟังก์ชั่นโดยใช้ชื่อตัวเเปรของฟังก์ชั่นช่วยได้"
      ]
    },
    {
      "cell_type": "code",
      "metadata": {
        "colab": {
          "base_uri": "https://localhost:8080/"
        },
        "id": "vB-Q1hXxbqlT",
        "outputId": "9b87d758-e037-4a78-db37-e7815fa36cef"
      },
      "source": [
        "print_name2(name='กิตติมา', surname='อุปสุข', ID='623021040-9')"
      ],
      "execution_count": 14,
      "outputs": [
        {
          "output_type": "stream",
          "text": [
            "ชื่อ กิตติมา นามสกุล อุปสุข ID 623021040-9\n"
          ],
          "name": "stdout"
        }
      ]
    },
    {
      "cell_type": "markdown",
      "metadata": {
        "id": "pBTysBf_cvvU"
      },
      "source": [
        "HW3 ,ให้เขียน  function คำนวณจำนวนวิชนาทีจาก เวลาต่อไปนี้\r\n",
        "\r\n",
        "'14-15-31\r\n",
        "\r\n",
        "'13-00-01'\r\n",
        "\r\n",
        "'05-49-44'\r\n",
        "\r\n",
        "'00-00-16\r\n",
        "\r\n",
        "เเละ print ให้สวยงาม"
      ]
    },
    {
      "cell_type": "markdown",
      "metadata": {
        "id": "6ulN_IjNsliq"
      },
      "source": [
        "#ตอบ"
      ]
    },
    {
      "cell_type": "code",
      "metadata": {
        "id": "AlJ_6Eucy0au"
      },
      "source": [
        "def function_time(time):\r\n",
        "    st = time.split('-')\r\n",
        "    answer = int(st[0]) * 3600 + int(st[1]) * 60 +int(st[2])\r\n",
        "    print(f'เวลา {time} คำนวนเป็นจำนวนวินาทีได้เท่ากับ {answer} วินาที ')"
      ],
      "execution_count": 20,
      "outputs": []
    },
    {
      "cell_type": "code",
      "metadata": {
        "id": "3q8pUwGs0LfR",
        "colab": {
          "base_uri": "https://localhost:8080/"
        },
        "outputId": "a8f04ead-1f9d-4941-e96e-42758f96dc5d"
      },
      "source": [
        "function_time('14-15-31')"
      ],
      "execution_count": 21,
      "outputs": [
        {
          "output_type": "stream",
          "text": [
            "เวลา 14-15-31 คำนวนเป็นจำนวนวินาทีได้เท่ากับ 51331 วินาที \n"
          ],
          "name": "stdout"
        }
      ]
    },
    {
      "cell_type": "code",
      "metadata": {
        "id": "qtOZ-_2P0WfE",
        "colab": {
          "base_uri": "https://localhost:8080/"
        },
        "outputId": "20f4b570-1622-471e-d7c6-43cba8dc6781"
      },
      "source": [
        "function_time('13-00-01')"
      ],
      "execution_count": 22,
      "outputs": [
        {
          "output_type": "stream",
          "text": [
            "เวลา 13-00-01 คำนวนเป็นจำนวนวินาทีได้เท่ากับ 46801 วินาที \n"
          ],
          "name": "stdout"
        }
      ]
    },
    {
      "cell_type": "code",
      "metadata": {
        "id": "Rif1yYFW0uZE",
        "colab": {
          "base_uri": "https://localhost:8080/"
        },
        "outputId": "4c5a7b5a-0911-4fca-a4b9-b4a91a738a6b"
      },
      "source": [
        "function_time('05-49-44')"
      ],
      "execution_count": 18,
      "outputs": [
        {
          "output_type": "stream",
          "text": [
            "เวลา 05-49-44 คำนวนเป็นจำนวนวินาทีได้เท่ากับ 20984 วินาที \n"
          ],
          "name": "stdout"
        }
      ]
    },
    {
      "cell_type": "code",
      "metadata": {
        "id": "6t8NxrF600uY",
        "colab": {
          "base_uri": "https://localhost:8080/"
        },
        "outputId": "b281a488-8c86-4f6a-8880-1da98971be2b"
      },
      "source": [
        "function_time('00-00-16')"
      ],
      "execution_count": 19,
      "outputs": [
        {
          "output_type": "stream",
          "text": [
            "เวลา 00-00-16 คำนวนเป็นจำนวนวินาทีได้เท่ากับ 16 วินาที \n"
          ],
          "name": "stdout"
        }
      ]
    }
  ]
}